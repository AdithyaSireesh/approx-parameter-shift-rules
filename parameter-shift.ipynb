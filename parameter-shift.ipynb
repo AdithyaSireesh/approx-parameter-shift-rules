{
 "cells": [
  {
   "cell_type": "code",
   "execution_count": 50,
   "id": "0a00397e",
   "metadata": {},
   "outputs": [],
   "source": [
    "import pennylane as qml\n",
    "from pennylane import numpy as np\n",
    "import matplotlib.pyplot as plt\n",
    "import numpy.random as rnd\n",
    "import seaborn as sns\n",
    "sns.set()"
   ]
  },
  {
   "cell_type": "code",
   "execution_count": 2,
   "id": "d97dd5a1",
   "metadata": {},
   "outputs": [],
   "source": [
    "# set the random seed\n",
    "seed = 800815\n",
    "np.random.seed(seed)\n",
    "N = 3\n",
    "dev = qml.device(\"default.qubit\", wires=N)"
   ]
  },
  {
   "cell_type": "code",
   "execution_count": 3,
   "id": "cdb82218",
   "metadata": {},
   "outputs": [],
   "source": [
    "# Generate random state\n",
    "def random_state(num_qubits, seed):\n",
    "  rs = unitary_group.rvs(dim=2**num_qubits, random_state=rnd.default_rng(seed))\n",
    "  return rs[0]\n",
    "\n",
    "def random_observable(num_qubits, seed):\n",
    "  real, img = rnd.random((2, 2**num_qubits, 2**num_qubits))\n",
    "  \n",
    "  real = real+real.T\n",
    "  img = img - img.T\n",
    "  \n",
    "  H = real + 1j*img\n",
    "  return H\n",
    "\n",
    "H = random_observable(N, seed)"
   ]
  },
  {
   "cell_type": "code",
   "execution_count": 4,
   "id": "d0805360",
   "metadata": {},
   "outputs": [
    {
     "data": {
      "text/plain": [
       "tensor([ 8.80289681, -2.3581051 , -1.83165003, -0.9786409 ,  2.17549758,\n",
       "         1.63960714,  1.20572138,  0.16142326], requires_grad=True)"
      ]
     },
     "execution_count": 4,
     "metadata": {},
     "output_type": "execute_result"
    }
   ],
   "source": [
    "np.real(np.linalg.eig(H)[0])"
   ]
  },
  {
   "cell_type": "code",
   "execution_count": 5,
   "id": "8b98eceb",
   "metadata": {},
   "outputs": [],
   "source": [
    "@qml.qnode(dev, diff_method=\"parameter-shift\")\n",
    "def circuit(params):\n",
    "    qml.RX(params[0], wires=0)\n",
    "    qml.RY(params[1], wires=1)\n",
    "    qml.RZ(params[2], wires=2)\n",
    "    \n",
    "    qml.broadcast(qml.CNOT, wires=[0,1,2], pattern=\"ring\")\n",
    "    \n",
    "    qml.RY(params[3], wires=0)\n",
    "    qml.RX(params[4], wires=1)\n",
    "    qml.RZ(params[5], wires=2)\n",
    "    \n",
    "    qml.broadcast(qml.CNOT, wires=[0,1,2], pattern=\"ring\")\n",
    "    \n",
    "    return qml.expval(qml.Hermitian(H, wires=dev.wires))"
   ]
  },
  {
   "cell_type": "code",
   "execution_count": 6,
   "id": "98f24974",
   "metadata": {},
   "outputs": [
    {
     "name": "stdout",
     "output_type": "stream",
     "text": [
      "Params are:  [0.93111819 0.43439045 0.1545537  0.99987185 0.47772167 0.98707036]\n",
      "Expectation value: 2.575751674696278\n"
     ]
    }
   ],
   "source": [
    "params = np.random.random([6], requires_grad=True)\n",
    "\n",
    "print(\"Params are: \", params)\n",
    "print(\"Expectation value:\", circuit(params))"
   ]
  },
  {
   "cell_type": "code",
   "execution_count": 7,
   "id": "495e1762",
   "metadata": {},
   "outputs": [
    {
     "data": {
      "text/plain": [
       "(array([ 1.+0.j, -1.+0.j,  1.+0.j, -1.+0.j]),\n",
       " tensor([[-0.        -0.70710678j,  0.70710678+0.j        ,\n",
       "          -0.        -0.j        , -0.        +0.j        ],\n",
       "         [-0.        +0.j        ,  0.        +0.j        ,\n",
       "          -0.        +0.70710678j,  0.70710678+0.j        ],\n",
       "         [ 0.70710678+0.j        ,  0.        -0.70710678j,\n",
       "          -0.        -0.j        , -0.        +0.j        ],\n",
       "         [-0.        +0.j        ,  0.        +0.j        ,\n",
       "           0.70710678+0.j        , -0.        +0.70710678j]], requires_grad=True))"
      ]
     },
     "execution_count": 7,
     "metadata": {},
     "output_type": "execute_result"
    }
   ],
   "source": [
    "x = np.matrix([[0,1],[1,0]])\n",
    "y = np.matrix([[0,-1j],[1j,0]])\n",
    "z = np.matrix([[1,0],[0,-1]])\n",
    "i = np.eye(2)\n",
    "np.linalg.eig(np.kron(y, z))"
   ]
  },
  {
   "cell_type": "code",
   "execution_count": 8,
   "id": "4009feb4",
   "metadata": {},
   "outputs": [
    {
     "data": {
      "image/png": "[encoded data removed]",
      "text/plain": [
       "<Figure size 792x288 with 1 Axes>"
      ]
     },
     "metadata": {},
     "output_type": "display_data"
    }
   ],
   "source": [
    "fig, ax = qml.draw_mpl(circuit, decimals=2)(params)\n",
    "plt.savefig(\"images/circuit_1.png\")\n",
    "plt.show()"
   ]
  },
  {
   "cell_type": "code",
   "execution_count": 9,
   "id": "6c322de8",
   "metadata": {},
   "outputs": [],
   "source": [
    "def parameter_shift_term(circuit, params, idx):\n",
    "  new_params = np.copy(params)\n",
    "  new_params[idx] += np.pi/2\n",
    "  forward_exp = circuit(new_params)\n",
    "  \n",
    "  new_params[idx] -= np.pi\n",
    "  backward_exp = circuit(new_params)\n",
    "  \n",
    "  grad = 0.5*(forward_exp - backward_exp)\n",
    "  return grad"
   ]
  },
  {
   "cell_type": "code",
   "execution_count": 10,
   "id": "b3288031",
   "metadata": {},
   "outputs": [
    {
     "name": "stdout",
     "output_type": "stream",
     "text": [
      "1.4428470211171902\n"
     ]
    }
   ],
   "source": [
    "print(parameter_shift_term(circuit, params, 0))"
   ]
  },
  {
   "cell_type": "code",
   "execution_count": 11,
   "id": "b4092242",
   "metadata": {},
   "outputs": [],
   "source": [
    "def parameter_shift_all(circuit, params):\n",
    "  grads = np.zeros([len(params)])\n",
    "  for idx, param in enumerate(params):\n",
    "    grads[idx] = parameter_shift_term(circuit, params, idx)\n",
    "  return grads"
   ]
  },
  {
   "cell_type": "code",
   "execution_count": 12,
   "id": "3bc74643",
   "metadata": {},
   "outputs": [
    {
     "name": "stdout",
     "output_type": "stream",
     "text": [
      "[ 1.44284702 -0.19947688  0.          1.08394825 -0.18399324  1.08050937]\n"
     ]
    }
   ],
   "source": [
    "print(parameter_shift_all(circuit, params))"
   ]
  },
  {
   "cell_type": "code",
   "execution_count": 13,
   "id": "ca0cb17f",
   "metadata": {},
   "outputs": [
    {
     "name": "stdout",
     "output_type": "stream",
     "text": [
      "1.4428470211171898\n"
     ]
    }
   ],
   "source": [
    "grad_function = qml.grad(circuit)\n",
    "print(grad_function(params)[0])"
   ]
  },
  {
   "cell_type": "code",
   "execution_count": 14,
   "id": "f2204bb0",
   "metadata": {},
   "outputs": [],
   "source": [
    "def update_params(params, grads, lr=0.01):\n",
    "  return params - lr*grads"
   ]
  },
  {
   "cell_type": "code",
   "execution_count": 15,
   "id": "c58cda41",
   "metadata": {},
   "outputs": [
    {
     "name": "stdout",
     "output_type": "stream",
     "text": [
      "Iter 0 - Expval of circuit: 0.7017980054618883\n",
      "Iter 100 - Expval of circuit: -2.030687169363362\n",
      "Iter 200 - Expval of circuit: -2.0833208427173036\n",
      "Iter 300 - Expval of circuit: -2.0892205881258334\n",
      "Iter 400 - Expval of circuit: -2.091105479576198\n",
      "Iter 500 - Expval of circuit: -2.091873959612317\n",
      "Iter 600 - Expval of circuit: -2.09219827872018\n",
      "Iter 700 - Expval of circuit: -2.0923361442315955\n",
      "Iter 800 - Expval of circuit: -2.092395019264227\n",
      "Iter 900 - Expval of circuit: -2.092420292696787\n"
     ]
    },
    {
     "data": {
      "image/png": "[encoded data removed]",
      "text/plain": [
       "<Figure size 432x288 with 1 Axes>"
      ]
     },
     "metadata": {
      "needs_background": "light"
     },
     "output_type": "display_data"
    }
   ],
   "source": [
    "params = np.random.random([6], requires_grad=True)\n",
    "\n",
    "def train(circuit, params, lr=0.01, numiters = 1000):\n",
    "  costs = []\n",
    "  lrs = []\n",
    "  for i in range(numiters):\n",
    "    prev_cost = circuit(params)\n",
    "    if i%100 == 0:\n",
    "      lr*=0.99\n",
    "      print(f\"Iter {i} - Expval of circuit: {circuit(params)}\")\n",
    "    grads = parameter_shift_all(circuit, params)\n",
    "    params = update_params(params, grads, lr)\n",
    "    curr_cost = circuit(params)\n",
    "    costs.append(prev_cost)\n",
    "    lrs.append(lr)\n",
    "  return params, costs, lrs\n",
    "new_params, costs, lrs = train(circuit, params)\n",
    "\n",
    "plt.plot(np.arange(1000), costs)\n",
    "plt.title(\"Expvalue vs iterations\")\n",
    "plt.ylabel(\"Cost\")\n",
    "plt.xlabel(\"Iterations\")\n",
    "plt.show()"
   ]
  },
  {
   "cell_type": "code",
   "execution_count": 16,
   "id": "05b1e249",
   "metadata": {},
   "outputs": [
    {
     "data": {
      "image/png": "[encoded data removed]",
      "text/plain": [
       "<Figure size 432x288 with 1 Axes>"
      ]
     },
     "metadata": {
      "needs_background": "light"
     },
     "output_type": "display_data"
    }
   ],
   "source": [
    "plt.plot(np.arange(1000), lrs)\n",
    "plt.title(\"Learnign rate vs iterations\")\n",
    "plt.ylabel(\"Learning rate\")\n",
    "plt.xlabel(\"Iterations\")\n",
    "plt.show()"
   ]
  },
  {
   "cell_type": "code",
   "execution_count": 17,
   "id": "0e902dfb",
   "metadata": {},
   "outputs": [
    {
     "data": {
      "text/plain": [
       "tensor([ 1.50696429, -0.57250401,  0.13329564,  0.05073803,  0.45317067,\n",
       "        -0.90789832], requires_grad=True)"
      ]
     },
     "execution_count": 17,
     "metadata": {},
     "output_type": "execute_result"
    }
   ],
   "source": [
    "new_params"
   ]
  },
  {
   "cell_type": "code",
   "execution_count": 18,
   "id": "266ae67a",
   "metadata": {},
   "outputs": [
    {
     "data": {
      "text/plain": [
       "tensor([0.84636466, 0.59526116, 0.13329564, 0.15676431, 0.26890075,\n",
       "        0.00733987], requires_grad=True)"
      ]
     },
     "execution_count": 18,
     "metadata": {},
     "output_type": "execute_result"
    }
   ],
   "source": [
    "params"
   ]
  },
  {
   "cell_type": "markdown",
   "id": "a335d271",
   "metadata": {},
   "source": [
    "## Research Question 1\n",
    "### How good is learning when we use the 2 term param shift rule?\n",
    "\n",
    "**Custom gate**\n",
    "[How to create custom gates](https://pennylane.ai/blog/2021/05/how-to-add-custom-gates-and-templates-to-pennylane/)"
   ]
  },
  {
   "cell_type": "code",
   "execution_count": 19,
   "id": "12238786",
   "metadata": {},
   "outputs": [
    {
     "name": "stdout",
     "output_type": "stream",
     "text": [
      "[ 4.4596346   0.72308071 -0.96655622 -1.8232704 ] 4.459634595281225 -1.8232703995290034\n"
     ]
    }
   ],
   "source": [
    "gen = random_observable(2, seed)\n",
    "eigs = np.real(np.linalg.eig(gen)[0])\n",
    "max_eig = np.max(eigs)\n",
    "min_eig = np.min(eigs)\n",
    "print(eigs, max_eig, min_eig)"
   ]
  },
  {
   "cell_type": "code",
   "execution_count": 20,
   "id": "ac4d2544",
   "metadata": {},
   "outputs": [],
   "source": [
    "import pennylane as qml\n",
    "from pennylane.operation import Operation\n",
    "from pennylane import numpy as np\n",
    "\n",
    "class Gmu(Operation):\n",
    "    num_params = 1\n",
    "    num_wires = 2\n",
    "    par_domain = \"R\"\n",
    "\n",
    "    grad_method = \"A\"\n",
    "    grad_recipe = None # This is the default but we write it down explicitly here.\n",
    "\n",
    "    generator = [gen]\n",
    "\n",
    "#     @staticmethod\n",
    "#     def decomposition(theta, wires):\n",
    "#         return [qml.PauliRot(theta, 'XX', wires=wires)]"
   ]
  },
  {
   "cell_type": "code",
   "execution_count": 21,
   "id": "efcbbdd0",
   "metadata": {},
   "outputs": [
    {
     "ename": "DeviceError",
     "evalue": "Gate Gmu not supported on device default.qubit.autograd",
     "output_type": "error",
     "traceback": [
      "\u001b[0;31m---------------------------------------------------------------------------\u001b[0m",
      "\u001b[0;31mDeviceError\u001b[0m                               Traceback (most recent call last)",
      "\u001b[0;32m/var/folders/92/jjpjrbf91clg0kmcnqglv1ym0000gn/T/ipykernel_7049/2167363908.py\u001b[0m in \u001b[0;36m<module>\u001b[0;34m\u001b[0m\n\u001b[1;32m      6\u001b[0m     \u001b[0;32mreturn\u001b[0m \u001b[0mqml\u001b[0m\u001b[0;34m.\u001b[0m\u001b[0mexpval\u001b[0m\u001b[0;34m(\u001b[0m\u001b[0mqml\u001b[0m\u001b[0;34m.\u001b[0m\u001b[0mPauliX\u001b[0m\u001b[0;34m(\u001b[0m\u001b[0;36m0\u001b[0m\u001b[0;34m)\u001b[0m \u001b[0;34m@\u001b[0m \u001b[0mqml\u001b[0m\u001b[0;34m.\u001b[0m\u001b[0mPauliY\u001b[0m\u001b[0;34m(\u001b[0m\u001b[0;36m1\u001b[0m\u001b[0;34m)\u001b[0m\u001b[0;34m)\u001b[0m\u001b[0;34m\u001b[0m\u001b[0;34m\u001b[0m\u001b[0m\n\u001b[1;32m      7\u001b[0m \u001b[0;34m\u001b[0m\u001b[0m\n\u001b[0;32m----> 8\u001b[0;31m \u001b[0mcirq\u001b[0m\u001b[0;34m(\u001b[0m\u001b[0;34m[\u001b[0m\u001b[0;36m0.3\u001b[0m\u001b[0;34m]\u001b[0m\u001b[0;34m)\u001b[0m\u001b[0;34m\u001b[0m\u001b[0;34m\u001b[0m\u001b[0m\n\u001b[0m",
      "\u001b[0;32m~/miniconda3/envs/practical_rl/lib/python3.9/site-packages/pennylane/qnode.py\u001b[0m in \u001b[0;36m__call__\u001b[0;34m(self, *args, **kwargs)\u001b[0m\n\u001b[1;32m    559\u001b[0m         \u001b[0mtapes\u001b[0m\u001b[0;34m,\u001b[0m \u001b[0mprocessing_fn\u001b[0m \u001b[0;34m=\u001b[0m \u001b[0mself\u001b[0m\u001b[0;34m.\u001b[0m\u001b[0mdevice\u001b[0m\u001b[0;34m.\u001b[0m\u001b[0mbatch_transform\u001b[0m\u001b[0;34m(\u001b[0m\u001b[0mself\u001b[0m\u001b[0;34m.\u001b[0m\u001b[0mtape\u001b[0m\u001b[0;34m)\u001b[0m\u001b[0;34m\u001b[0m\u001b[0;34m\u001b[0m\u001b[0m\n\u001b[1;32m    560\u001b[0m \u001b[0;34m\u001b[0m\u001b[0m\n\u001b[0;32m--> 561\u001b[0;31m         res = qml.execute(\n\u001b[0m\u001b[1;32m    562\u001b[0m             \u001b[0mtapes\u001b[0m\u001b[0;34m,\u001b[0m\u001b[0;34m\u001b[0m\u001b[0;34m\u001b[0m\u001b[0m\n\u001b[1;32m    563\u001b[0m             \u001b[0mdevice\u001b[0m\u001b[0;34m=\u001b[0m\u001b[0mself\u001b[0m\u001b[0;34m.\u001b[0m\u001b[0mdevice\u001b[0m\u001b[0;34m,\u001b[0m\u001b[0;34m\u001b[0m\u001b[0;34m\u001b[0m\u001b[0m\n",
      "\u001b[0;32m~/miniconda3/envs/practical_rl/lib/python3.9/site-packages/pennylane/interfaces/batch/__init__.py\u001b[0m in \u001b[0;36mexecute\u001b[0;34m(tapes, device, gradient_fn, interface, mode, gradient_kwargs, cache, cachesize, max_diff, override_shots, expand_fn, max_expansion)\u001b[0m\n\u001b[1;32m    319\u001b[0m \u001b[0;34m\u001b[0m\u001b[0m\n\u001b[1;32m    320\u001b[0m     \u001b[0;32mif\u001b[0m \u001b[0mgradient_fn\u001b[0m \u001b[0;34m==\u001b[0m \u001b[0;34m\"backprop\"\u001b[0m \u001b[0;32mor\u001b[0m \u001b[0minterface\u001b[0m \u001b[0;32mis\u001b[0m \u001b[0;32mNone\u001b[0m\u001b[0;34m:\u001b[0m\u001b[0;34m\u001b[0m\u001b[0;34m\u001b[0m\u001b[0m\n\u001b[0;32m--> 321\u001b[0;31m         \u001b[0;32mreturn\u001b[0m \u001b[0mcache_execute\u001b[0m\u001b[0;34m(\u001b[0m\u001b[0mbatch_execute\u001b[0m\u001b[0;34m,\u001b[0m \u001b[0mcache\u001b[0m\u001b[0;34m,\u001b[0m \u001b[0mreturn_tuple\u001b[0m\u001b[0;34m=\u001b[0m\u001b[0;32mFalse\u001b[0m\u001b[0;34m,\u001b[0m \u001b[0mexpand_fn\u001b[0m\u001b[0;34m=\u001b[0m\u001b[0mexpand_fn\u001b[0m\u001b[0;34m)\u001b[0m\u001b[0;34m(\u001b[0m\u001b[0mtapes\u001b[0m\u001b[0;34m)\u001b[0m\u001b[0;34m\u001b[0m\u001b[0;34m\u001b[0m\u001b[0m\n\u001b[0m\u001b[1;32m    322\u001b[0m \u001b[0;34m\u001b[0m\u001b[0m\n\u001b[1;32m    323\u001b[0m     \u001b[0;31m# the default execution function is batch_execute\u001b[0m\u001b[0;34m\u001b[0m\u001b[0;34m\u001b[0m\u001b[0m\n",
      "\u001b[0;32m~/miniconda3/envs/practical_rl/lib/python3.9/site-packages/pennylane/interfaces/batch/__init__.py\u001b[0m in \u001b[0;36mwrapper\u001b[0;34m(tapes, **kwargs)\u001b[0m\n\u001b[1;32m    166\u001b[0m         \u001b[0;32melse\u001b[0m\u001b[0;34m:\u001b[0m\u001b[0;34m\u001b[0m\u001b[0;34m\u001b[0m\u001b[0m\n\u001b[1;32m    167\u001b[0m             \u001b[0;31m# execute all unique tapes that do not exist in the cache\u001b[0m\u001b[0;34m\u001b[0m\u001b[0;34m\u001b[0m\u001b[0m\n\u001b[0;32m--> 168\u001b[0;31m             \u001b[0mres\u001b[0m \u001b[0;34m=\u001b[0m \u001b[0mfn\u001b[0m\u001b[0;34m(\u001b[0m\u001b[0mexecution_tapes\u001b[0m\u001b[0;34m.\u001b[0m\u001b[0mvalues\u001b[0m\u001b[0;34m(\u001b[0m\u001b[0;34m)\u001b[0m\u001b[0;34m,\u001b[0m \u001b[0;34m**\u001b[0m\u001b[0mkwargs\u001b[0m\u001b[0;34m)\u001b[0m\u001b[0;34m\u001b[0m\u001b[0;34m\u001b[0m\u001b[0m\n\u001b[0m\u001b[1;32m    169\u001b[0m \u001b[0;34m\u001b[0m\u001b[0m\n\u001b[1;32m    170\u001b[0m         \u001b[0mfinal_res\u001b[0m \u001b[0;34m=\u001b[0m \u001b[0;34m[\u001b[0m\u001b[0;34m]\u001b[0m\u001b[0;34m\u001b[0m\u001b[0;34m\u001b[0m\u001b[0m\n",
      "\u001b[0;32m~/miniconda3/envs/practical_rl/lib/python3.9/site-packages/pennylane/interfaces/batch/__init__.py\u001b[0m in \u001b[0;36mfn\u001b[0;34m(tapes, **kwargs)\u001b[0m\n\u001b[1;32m    118\u001b[0m         \u001b[0;32mdef\u001b[0m \u001b[0mfn\u001b[0m\u001b[0;34m(\u001b[0m\u001b[0mtapes\u001b[0m\u001b[0;34m,\u001b[0m \u001b[0;34m**\u001b[0m\u001b[0mkwargs\u001b[0m\u001b[0;34m)\u001b[0m\u001b[0;34m:\u001b[0m  \u001b[0;31m# pylint: disable=function-redefined\u001b[0m\u001b[0;34m\u001b[0m\u001b[0;34m\u001b[0m\u001b[0m\n\u001b[1;32m    119\u001b[0m             \u001b[0mtapes\u001b[0m \u001b[0;34m=\u001b[0m \u001b[0;34m[\u001b[0m\u001b[0mexpand_fn\u001b[0m\u001b[0;34m(\u001b[0m\u001b[0mtape\u001b[0m\u001b[0;34m)\u001b[0m \u001b[0;32mfor\u001b[0m \u001b[0mtape\u001b[0m \u001b[0;32min\u001b[0m \u001b[0mtapes\u001b[0m\u001b[0;34m]\u001b[0m\u001b[0;34m\u001b[0m\u001b[0;34m\u001b[0m\u001b[0m\n\u001b[0;32m--> 120\u001b[0;31m             \u001b[0;32mreturn\u001b[0m \u001b[0moriginal_fn\u001b[0m\u001b[0;34m(\u001b[0m\u001b[0mtapes\u001b[0m\u001b[0;34m,\u001b[0m \u001b[0;34m**\u001b[0m\u001b[0mkwargs\u001b[0m\u001b[0;34m)\u001b[0m\u001b[0;34m\u001b[0m\u001b[0;34m\u001b[0m\u001b[0m\n\u001b[0m\u001b[1;32m    121\u001b[0m \u001b[0;34m\u001b[0m\u001b[0m\n\u001b[1;32m    122\u001b[0m     \u001b[0;34m@\u001b[0m\u001b[0mwraps\u001b[0m\u001b[0;34m(\u001b[0m\u001b[0mfn\u001b[0m\u001b[0;34m)\u001b[0m\u001b[0;34m\u001b[0m\u001b[0;34m\u001b[0m\u001b[0m\n",
      "\u001b[0;32m~/miniconda3/envs/practical_rl/lib/python3.9/contextlib.py\u001b[0m in \u001b[0;36minner\u001b[0;34m(*args, **kwds)\u001b[0m\n\u001b[1;32m     77\u001b[0m         \u001b[0;32mdef\u001b[0m \u001b[0minner\u001b[0m\u001b[0;34m(\u001b[0m\u001b[0;34m*\u001b[0m\u001b[0margs\u001b[0m\u001b[0;34m,\u001b[0m \u001b[0;34m**\u001b[0m\u001b[0mkwds\u001b[0m\u001b[0;34m)\u001b[0m\u001b[0;34m:\u001b[0m\u001b[0;34m\u001b[0m\u001b[0;34m\u001b[0m\u001b[0m\n\u001b[1;32m     78\u001b[0m             \u001b[0;32mwith\u001b[0m \u001b[0mself\u001b[0m\u001b[0;34m.\u001b[0m\u001b[0m_recreate_cm\u001b[0m\u001b[0;34m(\u001b[0m\u001b[0;34m)\u001b[0m\u001b[0;34m:\u001b[0m\u001b[0;34m\u001b[0m\u001b[0;34m\u001b[0m\u001b[0m\n\u001b[0;32m---> 79\u001b[0;31m                 \u001b[0;32mreturn\u001b[0m \u001b[0mfunc\u001b[0m\u001b[0;34m(\u001b[0m\u001b[0;34m*\u001b[0m\u001b[0margs\u001b[0m\u001b[0;34m,\u001b[0m \u001b[0;34m**\u001b[0m\u001b[0mkwds\u001b[0m\u001b[0;34m)\u001b[0m\u001b[0;34m\u001b[0m\u001b[0;34m\u001b[0m\u001b[0m\n\u001b[0m\u001b[1;32m     80\u001b[0m         \u001b[0;32mreturn\u001b[0m \u001b[0minner\u001b[0m\u001b[0;34m\u001b[0m\u001b[0;34m\u001b[0m\u001b[0m\n\u001b[1;32m     81\u001b[0m \u001b[0;34m\u001b[0m\u001b[0m\n",
      "\u001b[0;32m~/miniconda3/envs/practical_rl/lib/python3.9/site-packages/pennylane/_qubit_device.py\u001b[0m in \u001b[0;36mbatch_execute\u001b[0;34m(self, circuits)\u001b[0m\n\u001b[1;32m    276\u001b[0m             \u001b[0mself\u001b[0m\u001b[0;34m.\u001b[0m\u001b[0mreset\u001b[0m\u001b[0;34m(\u001b[0m\u001b[0;34m)\u001b[0m\u001b[0;34m\u001b[0m\u001b[0;34m\u001b[0m\u001b[0m\n\u001b[1;32m    277\u001b[0m \u001b[0;34m\u001b[0m\u001b[0m\n\u001b[0;32m--> 278\u001b[0;31m             \u001b[0mres\u001b[0m \u001b[0;34m=\u001b[0m \u001b[0mself\u001b[0m\u001b[0;34m.\u001b[0m\u001b[0mexecute\u001b[0m\u001b[0;34m(\u001b[0m\u001b[0mcircuit\u001b[0m\u001b[0;34m)\u001b[0m\u001b[0;34m\u001b[0m\u001b[0;34m\u001b[0m\u001b[0m\n\u001b[0m\u001b[1;32m    279\u001b[0m             \u001b[0mresults\u001b[0m\u001b[0;34m.\u001b[0m\u001b[0mappend\u001b[0m\u001b[0;34m(\u001b[0m\u001b[0mres\u001b[0m\u001b[0;34m)\u001b[0m\u001b[0;34m\u001b[0m\u001b[0;34m\u001b[0m\u001b[0m\n\u001b[1;32m    280\u001b[0m \u001b[0;34m\u001b[0m\u001b[0m\n",
      "\u001b[0;32m~/miniconda3/envs/practical_rl/lib/python3.9/site-packages/pennylane/_qubit_device.py\u001b[0m in \u001b[0;36mexecute\u001b[0;34m(self, circuit, **kwargs)\u001b[0m\n\u001b[1;32m    189\u001b[0m                 \u001b[0;32mreturn\u001b[0m \u001b[0mself\u001b[0m\u001b[0;34m.\u001b[0m\u001b[0m_cache_execute\u001b[0m\u001b[0;34m[\u001b[0m\u001b[0mcircuit_hash\u001b[0m\u001b[0;34m]\u001b[0m\u001b[0;34m\u001b[0m\u001b[0;34m\u001b[0m\u001b[0m\n\u001b[1;32m    190\u001b[0m \u001b[0;34m\u001b[0m\u001b[0m\n\u001b[0;32m--> 191\u001b[0;31m         \u001b[0mself\u001b[0m\u001b[0;34m.\u001b[0m\u001b[0mcheck_validity\u001b[0m\u001b[0;34m(\u001b[0m\u001b[0mcircuit\u001b[0m\u001b[0;34m.\u001b[0m\u001b[0moperations\u001b[0m\u001b[0;34m,\u001b[0m \u001b[0mcircuit\u001b[0m\u001b[0;34m.\u001b[0m\u001b[0mobservables\u001b[0m\u001b[0;34m)\u001b[0m\u001b[0;34m\u001b[0m\u001b[0;34m\u001b[0m\u001b[0m\n\u001b[0m\u001b[1;32m    192\u001b[0m \u001b[0;34m\u001b[0m\u001b[0m\n\u001b[1;32m    193\u001b[0m         \u001b[0;31m# apply all circuit operations\u001b[0m\u001b[0;34m\u001b[0m\u001b[0;34m\u001b[0m\u001b[0m\n",
      "\u001b[0;32m~/miniconda3/envs/practical_rl/lib/python3.9/site-packages/pennylane/_device.py\u001b[0m in \u001b[0;36mcheck_validity\u001b[0;34m(self, queue, observables)\u001b[0m\n\u001b[1;32m    888\u001b[0m \u001b[0;34m\u001b[0m\u001b[0m\n\u001b[1;32m    889\u001b[0m             \u001b[0;32mif\u001b[0m \u001b[0;32mnot\u001b[0m \u001b[0mself\u001b[0m\u001b[0;34m.\u001b[0m\u001b[0msupports_operation\u001b[0m\u001b[0;34m(\u001b[0m\u001b[0moperation_name\u001b[0m\u001b[0;34m)\u001b[0m\u001b[0;34m:\u001b[0m\u001b[0;34m\u001b[0m\u001b[0;34m\u001b[0m\u001b[0m\n\u001b[0;32m--> 890\u001b[0;31m                 raise DeviceError(\n\u001b[0m\u001b[1;32m    891\u001b[0m                     \u001b[0;34mf\"Gate {operation_name} not supported on device {self.short_name}\"\u001b[0m\u001b[0;34m\u001b[0m\u001b[0;34m\u001b[0m\u001b[0m\n\u001b[1;32m    892\u001b[0m                 )\n",
      "\u001b[0;31mDeviceError\u001b[0m: Gate Gmu not supported on device default.qubit.autograd"
     ]
    }
   ],
   "source": [
    "dev2 = qml.device('default.qubit', wires=2)\n",
    "\n",
    "@qml.qnode(dev2)\n",
    "def cirq(params):\n",
    "    Gmu(params[0], wires=[0, 1])\n",
    "    return qml.expval(qml.PauliX(0) @ qml.PauliY(1))\n",
    "\n",
    "cirq([0.3])"
   ]
  },
  {
   "cell_type": "code",
   "execution_count": 22,
   "id": "34b099b3",
   "metadata": {},
   "outputs": [
    {
     "ename": "DeviceError",
     "evalue": "Gate Gmu not supported on device default.qubit.autograd",
     "output_type": "error",
     "traceback": [
      "\u001b[0;31m---------------------------------------------------------------------------\u001b[0m",
      "\u001b[0;31mDeviceError\u001b[0m                               Traceback (most recent call last)",
      "\u001b[0;32m/var/folders/92/jjpjrbf91clg0kmcnqglv1ym0000gn/T/ipykernel_7049/2455994551.py\u001b[0m in \u001b[0;36m<module>\u001b[0;34m\u001b[0m\n\u001b[1;32m      1\u001b[0m \u001b[0mparams\u001b[0m \u001b[0;34m=\u001b[0m \u001b[0mnp\u001b[0m\u001b[0;34m.\u001b[0m\u001b[0mrandom\u001b[0m\u001b[0;34m.\u001b[0m\u001b[0mrandom\u001b[0m\u001b[0;34m(\u001b[0m\u001b[0;34m[\u001b[0m\u001b[0;36m1\u001b[0m\u001b[0;34m]\u001b[0m\u001b[0;34m,\u001b[0m \u001b[0mrequires_grad\u001b[0m\u001b[0;34m=\u001b[0m\u001b[0;32mTrue\u001b[0m\u001b[0;34m)\u001b[0m\u001b[0;34m\u001b[0m\u001b[0;34m\u001b[0m\u001b[0m\n\u001b[0;32m----> 2\u001b[0;31m \u001b[0mnew_params\u001b[0m\u001b[0;34m,\u001b[0m \u001b[0mcosts\u001b[0m\u001b[0;34m,\u001b[0m \u001b[0mlrs\u001b[0m \u001b[0;34m=\u001b[0m \u001b[0mtrain\u001b[0m\u001b[0;34m(\u001b[0m\u001b[0mcirq\u001b[0m\u001b[0;34m,\u001b[0m \u001b[0mparams\u001b[0m\u001b[0;34m,\u001b[0m \u001b[0mlr\u001b[0m\u001b[0;34m=\u001b[0m\u001b[0;36m0.01\u001b[0m\u001b[0;34m,\u001b[0m \u001b[0mnumiters\u001b[0m\u001b[0;34m=\u001b[0m\u001b[0;36m5000\u001b[0m\u001b[0;34m)\u001b[0m\u001b[0;34m\u001b[0m\u001b[0;34m\u001b[0m\u001b[0m\n\u001b[0m\u001b[1;32m      3\u001b[0m \u001b[0;34m\u001b[0m\u001b[0m\n\u001b[1;32m      4\u001b[0m \u001b[0mplt\u001b[0m\u001b[0;34m.\u001b[0m\u001b[0mplot\u001b[0m\u001b[0;34m(\u001b[0m\u001b[0mnp\u001b[0m\u001b[0;34m.\u001b[0m\u001b[0marange\u001b[0m\u001b[0;34m(\u001b[0m\u001b[0;36m1000\u001b[0m\u001b[0;34m)\u001b[0m\u001b[0;34m,\u001b[0m \u001b[0mcosts\u001b[0m\u001b[0;34m)\u001b[0m\u001b[0;34m\u001b[0m\u001b[0;34m\u001b[0m\u001b[0m\n\u001b[1;32m      5\u001b[0m \u001b[0mplt\u001b[0m\u001b[0;34m.\u001b[0m\u001b[0mtitle\u001b[0m\u001b[0;34m(\u001b[0m\u001b[0;34m\"Expvalue vs iterations\"\u001b[0m\u001b[0;34m)\u001b[0m\u001b[0;34m\u001b[0m\u001b[0;34m\u001b[0m\u001b[0m\n",
      "\u001b[0;32m/var/folders/92/jjpjrbf91clg0kmcnqglv1ym0000gn/T/ipykernel_7049/3776591362.py\u001b[0m in \u001b[0;36mtrain\u001b[0;34m(circuit, params, lr, numiters)\u001b[0m\n\u001b[1;32m      5\u001b[0m   \u001b[0mlrs\u001b[0m \u001b[0;34m=\u001b[0m \u001b[0;34m[\u001b[0m\u001b[0;34m]\u001b[0m\u001b[0;34m\u001b[0m\u001b[0;34m\u001b[0m\u001b[0m\n\u001b[1;32m      6\u001b[0m   \u001b[0;32mfor\u001b[0m \u001b[0mi\u001b[0m \u001b[0;32min\u001b[0m \u001b[0mrange\u001b[0m\u001b[0;34m(\u001b[0m\u001b[0mnumiters\u001b[0m\u001b[0;34m)\u001b[0m\u001b[0;34m:\u001b[0m\u001b[0;34m\u001b[0m\u001b[0;34m\u001b[0m\u001b[0m\n\u001b[0;32m----> 7\u001b[0;31m     \u001b[0mprev_cost\u001b[0m \u001b[0;34m=\u001b[0m \u001b[0mcircuit\u001b[0m\u001b[0;34m(\u001b[0m\u001b[0mparams\u001b[0m\u001b[0;34m)\u001b[0m\u001b[0;34m\u001b[0m\u001b[0;34m\u001b[0m\u001b[0m\n\u001b[0m\u001b[1;32m      8\u001b[0m     \u001b[0;32mif\u001b[0m \u001b[0mi\u001b[0m\u001b[0;34m%\u001b[0m\u001b[0;36m100\u001b[0m \u001b[0;34m==\u001b[0m \u001b[0;36m0\u001b[0m\u001b[0;34m:\u001b[0m\u001b[0;34m\u001b[0m\u001b[0;34m\u001b[0m\u001b[0m\n\u001b[1;32m      9\u001b[0m       \u001b[0mlr\u001b[0m\u001b[0;34m*=\u001b[0m\u001b[0;36m0.99\u001b[0m\u001b[0;34m\u001b[0m\u001b[0;34m\u001b[0m\u001b[0m\n",
      "\u001b[0;32m~/miniconda3/envs/practical_rl/lib/python3.9/site-packages/pennylane/qnode.py\u001b[0m in \u001b[0;36m__call__\u001b[0;34m(self, *args, **kwargs)\u001b[0m\n\u001b[1;32m    559\u001b[0m         \u001b[0mtapes\u001b[0m\u001b[0;34m,\u001b[0m \u001b[0mprocessing_fn\u001b[0m \u001b[0;34m=\u001b[0m \u001b[0mself\u001b[0m\u001b[0;34m.\u001b[0m\u001b[0mdevice\u001b[0m\u001b[0;34m.\u001b[0m\u001b[0mbatch_transform\u001b[0m\u001b[0;34m(\u001b[0m\u001b[0mself\u001b[0m\u001b[0;34m.\u001b[0m\u001b[0mtape\u001b[0m\u001b[0;34m)\u001b[0m\u001b[0;34m\u001b[0m\u001b[0;34m\u001b[0m\u001b[0m\n\u001b[1;32m    560\u001b[0m \u001b[0;34m\u001b[0m\u001b[0m\n\u001b[0;32m--> 561\u001b[0;31m         res = qml.execute(\n\u001b[0m\u001b[1;32m    562\u001b[0m             \u001b[0mtapes\u001b[0m\u001b[0;34m,\u001b[0m\u001b[0;34m\u001b[0m\u001b[0;34m\u001b[0m\u001b[0m\n\u001b[1;32m    563\u001b[0m             \u001b[0mdevice\u001b[0m\u001b[0;34m=\u001b[0m\u001b[0mself\u001b[0m\u001b[0;34m.\u001b[0m\u001b[0mdevice\u001b[0m\u001b[0;34m,\u001b[0m\u001b[0;34m\u001b[0m\u001b[0;34m\u001b[0m\u001b[0m\n",
      "\u001b[0;32m~/miniconda3/envs/practical_rl/lib/python3.9/site-packages/pennylane/interfaces/batch/__init__.py\u001b[0m in \u001b[0;36mexecute\u001b[0;34m(tapes, device, gradient_fn, interface, mode, gradient_kwargs, cache, cachesize, max_diff, override_shots, expand_fn, max_expansion)\u001b[0m\n\u001b[1;32m    319\u001b[0m \u001b[0;34m\u001b[0m\u001b[0m\n\u001b[1;32m    320\u001b[0m     \u001b[0;32mif\u001b[0m \u001b[0mgradient_fn\u001b[0m \u001b[0;34m==\u001b[0m \u001b[0;34m\"backprop\"\u001b[0m \u001b[0;32mor\u001b[0m \u001b[0minterface\u001b[0m \u001b[0;32mis\u001b[0m \u001b[0;32mNone\u001b[0m\u001b[0;34m:\u001b[0m\u001b[0;34m\u001b[0m\u001b[0;34m\u001b[0m\u001b[0m\n\u001b[0;32m--> 321\u001b[0;31m         \u001b[0;32mreturn\u001b[0m \u001b[0mcache_execute\u001b[0m\u001b[0;34m(\u001b[0m\u001b[0mbatch_execute\u001b[0m\u001b[0;34m,\u001b[0m \u001b[0mcache\u001b[0m\u001b[0;34m,\u001b[0m \u001b[0mreturn_tuple\u001b[0m\u001b[0;34m=\u001b[0m\u001b[0;32mFalse\u001b[0m\u001b[0;34m,\u001b[0m \u001b[0mexpand_fn\u001b[0m\u001b[0;34m=\u001b[0m\u001b[0mexpand_fn\u001b[0m\u001b[0;34m)\u001b[0m\u001b[0;34m(\u001b[0m\u001b[0mtapes\u001b[0m\u001b[0;34m)\u001b[0m\u001b[0;34m\u001b[0m\u001b[0;34m\u001b[0m\u001b[0m\n\u001b[0m\u001b[1;32m    322\u001b[0m \u001b[0;34m\u001b[0m\u001b[0m\n\u001b[1;32m    323\u001b[0m     \u001b[0;31m# the default execution function is batch_execute\u001b[0m\u001b[0;34m\u001b[0m\u001b[0;34m\u001b[0m\u001b[0m\n",
      "\u001b[0;32m~/miniconda3/envs/practical_rl/lib/python3.9/site-packages/pennylane/interfaces/batch/__init__.py\u001b[0m in \u001b[0;36mwrapper\u001b[0;34m(tapes, **kwargs)\u001b[0m\n\u001b[1;32m    166\u001b[0m         \u001b[0;32melse\u001b[0m\u001b[0;34m:\u001b[0m\u001b[0;34m\u001b[0m\u001b[0;34m\u001b[0m\u001b[0m\n\u001b[1;32m    167\u001b[0m             \u001b[0;31m# execute all unique tapes that do not exist in the cache\u001b[0m\u001b[0;34m\u001b[0m\u001b[0;34m\u001b[0m\u001b[0m\n\u001b[0;32m--> 168\u001b[0;31m             \u001b[0mres\u001b[0m \u001b[0;34m=\u001b[0m \u001b[0mfn\u001b[0m\u001b[0;34m(\u001b[0m\u001b[0mexecution_tapes\u001b[0m\u001b[0;34m.\u001b[0m\u001b[0mvalues\u001b[0m\u001b[0;34m(\u001b[0m\u001b[0;34m)\u001b[0m\u001b[0;34m,\u001b[0m \u001b[0;34m**\u001b[0m\u001b[0mkwargs\u001b[0m\u001b[0;34m)\u001b[0m\u001b[0;34m\u001b[0m\u001b[0;34m\u001b[0m\u001b[0m\n\u001b[0m\u001b[1;32m    169\u001b[0m \u001b[0;34m\u001b[0m\u001b[0m\n\u001b[1;32m    170\u001b[0m         \u001b[0mfinal_res\u001b[0m \u001b[0;34m=\u001b[0m \u001b[0;34m[\u001b[0m\u001b[0;34m]\u001b[0m\u001b[0;34m\u001b[0m\u001b[0;34m\u001b[0m\u001b[0m\n",
      "\u001b[0;32m~/miniconda3/envs/practical_rl/lib/python3.9/site-packages/pennylane/interfaces/batch/__init__.py\u001b[0m in \u001b[0;36mfn\u001b[0;34m(tapes, **kwargs)\u001b[0m\n\u001b[1;32m    118\u001b[0m         \u001b[0;32mdef\u001b[0m \u001b[0mfn\u001b[0m\u001b[0;34m(\u001b[0m\u001b[0mtapes\u001b[0m\u001b[0;34m,\u001b[0m \u001b[0;34m**\u001b[0m\u001b[0mkwargs\u001b[0m\u001b[0;34m)\u001b[0m\u001b[0;34m:\u001b[0m  \u001b[0;31m# pylint: disable=function-redefined\u001b[0m\u001b[0;34m\u001b[0m\u001b[0;34m\u001b[0m\u001b[0m\n\u001b[1;32m    119\u001b[0m             \u001b[0mtapes\u001b[0m \u001b[0;34m=\u001b[0m \u001b[0;34m[\u001b[0m\u001b[0mexpand_fn\u001b[0m\u001b[0;34m(\u001b[0m\u001b[0mtape\u001b[0m\u001b[0;34m)\u001b[0m \u001b[0;32mfor\u001b[0m \u001b[0mtape\u001b[0m \u001b[0;32min\u001b[0m \u001b[0mtapes\u001b[0m\u001b[0;34m]\u001b[0m\u001b[0;34m\u001b[0m\u001b[0;34m\u001b[0m\u001b[0m\n\u001b[0;32m--> 120\u001b[0;31m             \u001b[0;32mreturn\u001b[0m \u001b[0moriginal_fn\u001b[0m\u001b[0;34m(\u001b[0m\u001b[0mtapes\u001b[0m\u001b[0;34m,\u001b[0m \u001b[0;34m**\u001b[0m\u001b[0mkwargs\u001b[0m\u001b[0;34m)\u001b[0m\u001b[0;34m\u001b[0m\u001b[0;34m\u001b[0m\u001b[0m\n\u001b[0m\u001b[1;32m    121\u001b[0m \u001b[0;34m\u001b[0m\u001b[0m\n\u001b[1;32m    122\u001b[0m     \u001b[0;34m@\u001b[0m\u001b[0mwraps\u001b[0m\u001b[0;34m(\u001b[0m\u001b[0mfn\u001b[0m\u001b[0;34m)\u001b[0m\u001b[0;34m\u001b[0m\u001b[0;34m\u001b[0m\u001b[0m\n",
      "\u001b[0;32m~/miniconda3/envs/practical_rl/lib/python3.9/contextlib.py\u001b[0m in \u001b[0;36minner\u001b[0;34m(*args, **kwds)\u001b[0m\n\u001b[1;32m     77\u001b[0m         \u001b[0;32mdef\u001b[0m \u001b[0minner\u001b[0m\u001b[0;34m(\u001b[0m\u001b[0;34m*\u001b[0m\u001b[0margs\u001b[0m\u001b[0;34m,\u001b[0m \u001b[0;34m**\u001b[0m\u001b[0mkwds\u001b[0m\u001b[0;34m)\u001b[0m\u001b[0;34m:\u001b[0m\u001b[0;34m\u001b[0m\u001b[0;34m\u001b[0m\u001b[0m\n\u001b[1;32m     78\u001b[0m             \u001b[0;32mwith\u001b[0m \u001b[0mself\u001b[0m\u001b[0;34m.\u001b[0m\u001b[0m_recreate_cm\u001b[0m\u001b[0;34m(\u001b[0m\u001b[0;34m)\u001b[0m\u001b[0;34m:\u001b[0m\u001b[0;34m\u001b[0m\u001b[0;34m\u001b[0m\u001b[0m\n\u001b[0;32m---> 79\u001b[0;31m                 \u001b[0;32mreturn\u001b[0m \u001b[0mfunc\u001b[0m\u001b[0;34m(\u001b[0m\u001b[0;34m*\u001b[0m\u001b[0margs\u001b[0m\u001b[0;34m,\u001b[0m \u001b[0;34m**\u001b[0m\u001b[0mkwds\u001b[0m\u001b[0;34m)\u001b[0m\u001b[0;34m\u001b[0m\u001b[0;34m\u001b[0m\u001b[0m\n\u001b[0m\u001b[1;32m     80\u001b[0m         \u001b[0;32mreturn\u001b[0m \u001b[0minner\u001b[0m\u001b[0;34m\u001b[0m\u001b[0;34m\u001b[0m\u001b[0m\n\u001b[1;32m     81\u001b[0m \u001b[0;34m\u001b[0m\u001b[0m\n",
      "\u001b[0;32m~/miniconda3/envs/practical_rl/lib/python3.9/site-packages/pennylane/_qubit_device.py\u001b[0m in \u001b[0;36mbatch_execute\u001b[0;34m(self, circuits)\u001b[0m\n\u001b[1;32m    276\u001b[0m             \u001b[0mself\u001b[0m\u001b[0;34m.\u001b[0m\u001b[0mreset\u001b[0m\u001b[0;34m(\u001b[0m\u001b[0;34m)\u001b[0m\u001b[0;34m\u001b[0m\u001b[0;34m\u001b[0m\u001b[0m\n\u001b[1;32m    277\u001b[0m \u001b[0;34m\u001b[0m\u001b[0m\n\u001b[0;32m--> 278\u001b[0;31m             \u001b[0mres\u001b[0m \u001b[0;34m=\u001b[0m \u001b[0mself\u001b[0m\u001b[0;34m.\u001b[0m\u001b[0mexecute\u001b[0m\u001b[0;34m(\u001b[0m\u001b[0mcircuit\u001b[0m\u001b[0;34m)\u001b[0m\u001b[0;34m\u001b[0m\u001b[0;34m\u001b[0m\u001b[0m\n\u001b[0m\u001b[1;32m    279\u001b[0m             \u001b[0mresults\u001b[0m\u001b[0;34m.\u001b[0m\u001b[0mappend\u001b[0m\u001b[0;34m(\u001b[0m\u001b[0mres\u001b[0m\u001b[0;34m)\u001b[0m\u001b[0;34m\u001b[0m\u001b[0;34m\u001b[0m\u001b[0m\n\u001b[1;32m    280\u001b[0m \u001b[0;34m\u001b[0m\u001b[0m\n",
      "\u001b[0;32m~/miniconda3/envs/practical_rl/lib/python3.9/site-packages/pennylane/_qubit_device.py\u001b[0m in \u001b[0;36mexecute\u001b[0;34m(self, circuit, **kwargs)\u001b[0m\n\u001b[1;32m    189\u001b[0m                 \u001b[0;32mreturn\u001b[0m \u001b[0mself\u001b[0m\u001b[0;34m.\u001b[0m\u001b[0m_cache_execute\u001b[0m\u001b[0;34m[\u001b[0m\u001b[0mcircuit_hash\u001b[0m\u001b[0;34m]\u001b[0m\u001b[0;34m\u001b[0m\u001b[0;34m\u001b[0m\u001b[0m\n\u001b[1;32m    190\u001b[0m \u001b[0;34m\u001b[0m\u001b[0m\n\u001b[0;32m--> 191\u001b[0;31m         \u001b[0mself\u001b[0m\u001b[0;34m.\u001b[0m\u001b[0mcheck_validity\u001b[0m\u001b[0;34m(\u001b[0m\u001b[0mcircuit\u001b[0m\u001b[0;34m.\u001b[0m\u001b[0moperations\u001b[0m\u001b[0;34m,\u001b[0m \u001b[0mcircuit\u001b[0m\u001b[0;34m.\u001b[0m\u001b[0mobservables\u001b[0m\u001b[0;34m)\u001b[0m\u001b[0;34m\u001b[0m\u001b[0;34m\u001b[0m\u001b[0m\n\u001b[0m\u001b[1;32m    192\u001b[0m \u001b[0;34m\u001b[0m\u001b[0m\n\u001b[1;32m    193\u001b[0m         \u001b[0;31m# apply all circuit operations\u001b[0m\u001b[0;34m\u001b[0m\u001b[0;34m\u001b[0m\u001b[0m\n",
      "\u001b[0;32m~/miniconda3/envs/practical_rl/lib/python3.9/site-packages/pennylane/_device.py\u001b[0m in \u001b[0;36mcheck_validity\u001b[0;34m(self, queue, observables)\u001b[0m\n\u001b[1;32m    888\u001b[0m \u001b[0;34m\u001b[0m\u001b[0m\n\u001b[1;32m    889\u001b[0m             \u001b[0;32mif\u001b[0m \u001b[0;32mnot\u001b[0m \u001b[0mself\u001b[0m\u001b[0;34m.\u001b[0m\u001b[0msupports_operation\u001b[0m\u001b[0;34m(\u001b[0m\u001b[0moperation_name\u001b[0m\u001b[0;34m)\u001b[0m\u001b[0;34m:\u001b[0m\u001b[0;34m\u001b[0m\u001b[0;34m\u001b[0m\u001b[0m\n\u001b[0;32m--> 890\u001b[0;31m                 raise DeviceError(\n\u001b[0m\u001b[1;32m    891\u001b[0m                     \u001b[0;34mf\"Gate {operation_name} not supported on device {self.short_name}\"\u001b[0m\u001b[0;34m\u001b[0m\u001b[0;34m\u001b[0m\u001b[0m\n\u001b[1;32m    892\u001b[0m                 )\n",
      "\u001b[0;31mDeviceError\u001b[0m: Gate Gmu not supported on device default.qubit.autograd"
     ]
    }
   ],
   "source": [
    "params = np.random.random([1], requires_grad=True)\n",
    "new_params, costs, lrs = train(cirq, params, lr=0.01, numiters=5000)\n",
    "\n",
    "plt.plot(np.arange(1000), costs)\n",
    "plt.title(\"Expvalue vs iterations\")\n",
    "plt.ylabel(\"Cost\")\n",
    "plt.xlabel(\"Iterations\")\n",
    "plt.show()"
   ]
  },
  {
   "cell_type": "code",
   "execution_count": 23,
   "id": "2fd51f3b",
   "metadata": {},
   "outputs": [
    {
     "data": {
      "text/plain": [
       "(array([ 1., -1.,  1., -1.]),\n",
       " tensor([[ 0.70710678, -0.70710678,  0.        ,  0.        ],\n",
       "         [ 0.70710678,  0.70710678,  0.        ,  0.        ],\n",
       "         [ 0.        ,  0.        ,  0.70710678,  0.70710678],\n",
       "         [ 0.        ,  0.        , -0.70710678,  0.70710678]], requires_grad=True))"
      ]
     },
     "execution_count": 23,
     "metadata": {},
     "output_type": "execute_result"
    }
   ],
   "source": [
    "np.linalg.eig(np.kron(z,x))"
   ]
  },
  {
   "cell_type": "markdown",
   "id": "63976e6a",
   "metadata": {},
   "source": [
    "### 3rd device\n",
    "checking if paui rotation give good grads\n"
   ]
  },
  {
   "cell_type": "code",
   "execution_count": 24,
   "id": "07c30235",
   "metadata": {},
   "outputs": [
    {
     "data": {
      "text/plain": [
       "tensor(-0.29552021, requires_grad=True)"
      ]
     },
     "execution_count": 24,
     "metadata": {},
     "output_type": "execute_result"
    }
   ],
   "source": [
    "dev3 = qml.device('default.qubit', wires=2)\n",
    "\n",
    "@qml.qnode(dev3, diff_method=\"parameter-shift\")\n",
    "def cirq2(params):\n",
    "    qml.PauliRot(params[0], \"XX\", wires=[0,1])\n",
    "    return qml.expval(qml.PauliX(0) @ qml.PauliY(1))\n",
    "\n",
    "cirq2([0.3])"
   ]
  },
  {
   "cell_type": "code",
   "execution_count": 25,
   "id": "7e27c080",
   "metadata": {},
   "outputs": [
    {
     "data": {
      "image/png": "[encoded data removed]",
      "text/plain": [
       "<Figure size 288x216 with 1 Axes>"
      ]
     },
     "metadata": {},
     "output_type": "display_data"
    }
   ],
   "source": [
    "fig, ax = qml.draw_mpl(cirq2, decimals=2)(params)"
   ]
  },
  {
   "cell_type": "code",
   "execution_count": 26,
   "id": "4b1be1c7",
   "metadata": {},
   "outputs": [
    {
     "name": "stdout",
     "output_type": "stream",
     "text": [
      "Iter 0 - Expval of circuit: -0.07124409731420223\n",
      "Iter 100 - Expval of circuit: -0.7870912303014317\n",
      "Iter 200 - Expval of circuit: -0.9672792711741605\n",
      "Iter 300 - Expval of circuit: -0.9952781283137213\n",
      "Iter 400 - Expval of circuit: -0.9993135580716823\n",
      "Iter 500 - Expval of circuit: -0.9998984313151305\n",
      "Iter 600 - Expval of circuit: -0.9999846839908895\n",
      "Iter 700 - Expval of circuit: -0.9999976461962065\n",
      "Iter 800 - Expval of circuit: -0.9999996313925607\n",
      "Iter 900 - Expval of circuit: -0.9999999411906065\n"
     ]
    },
    {
     "data": {
      "image/png": "[encoded data removed]",
      "text/plain": [
       "<Figure size 432x288 with 1 Axes>"
      ]
     },
     "metadata": {
      "needs_background": "light"
     },
     "output_type": "display_data"
    }
   ],
   "source": [
    "params = np.random.random([1], requires_grad=True)\n",
    "def train(circuit, params, lr=0.01, numiters = 1000):\n",
    "  costs = []\n",
    "  lrs = []\n",
    "  grad_function = qml.grad(circuit)\n",
    "  for i in range(numiters):\n",
    "    prev_cost = circuit(params)\n",
    "    if i%100 == 0:\n",
    "      lr*=0.99\n",
    "      print(f\"Iter {i} - Expval of circuit: {circuit(params)}\")\n",
    "    grads = np.array(grad_function(params)[0])\n",
    "    params = update_params(params, grads, lr)\n",
    "    curr_cost = circuit(params)\n",
    "    costs.append(prev_cost)\n",
    "    lrs.append(lr)\n",
    "  return params, costs, lrs\n",
    "new_params, costs, lrs = train(cirq2, params)\n",
    "\n",
    "plt.plot(np.arange(1000), costs)\n",
    "plt.title(\"Expvalue vs iterations\")\n",
    "plt.ylabel(\"Cost\")\n",
    "plt.xlabel(\"Iterations\")\n",
    "plt.show()"
   ]
  },
  {
   "cell_type": "markdown",
   "id": "9977e7ab",
   "metadata": {},
   "source": [
    "# Custom linear combination of pauli words"
   ]
  },
  {
   "cell_type": "code",
   "execution_count": 168,
   "id": "1d4ab89d",
   "metadata": {},
   "outputs": [
    {
     "name": "stdout",
     "output_type": "stream",
     "text": [
      "[-1.5  1.5  0.5 -1.5  1.5  0.5 -0.5 -0.5  0.5 -0.5  0.5 -0.5  0.5 -0.5\n",
      "  0.5 -0.5]\n"
     ]
    }
   ],
   "source": [
    "x = np.matrix([[0,1],[1,0]])\n",
    "y = np.matrix([[0,-1j],[1j,0]])\n",
    "z = np.matrix([[1,0],[0,-1]])\n",
    "i = np.eye(2)\n",
    "mat1 = np.kron(np.kron(np.kron(x, y),i),i)\n",
    "mat2 = np.kron(np.kron(np.kron(i, y),z),i)\n",
    "mat3 = np.kron(np.kron(np.kron(i, i),z),x)\n",
    "mat4 = mat1-mat2+mat3\n",
    "eigs = np.linalg.eig(-0.5*mat4)\n",
    "print(np.real(eigs[0]))"
   ]
  },
  {
   "cell_type": "code",
   "execution_count": 107,
   "id": "7f2def18",
   "metadata": {},
   "outputs": [
    {
     "name": "stdout",
     "output_type": "stream",
     "text": [
      "[ 12.5 -12.5  12.5 -12.5]\n"
     ]
    }
   ],
   "source": []
  },
  {
   "cell_type": "code",
   "execution_count": 193,
   "id": "fdca4cf9",
   "metadata": {},
   "outputs": [
    {
     "name": "stdout",
     "output_type": "stream",
     "text": [
      "[ 1.69106789e+01 -4.60081959e+00  4.05942082e+00 -2.84563508e+00\n",
      " -2.54295446e+00  2.87254943e+00  2.51320120e+00 -2.00778188e+00\n",
      " -1.54829526e+00  1.80104459e+00  1.45026402e+00 -8.82710037e-01\n",
      " -4.06703454e-01 -1.09211742e-02  7.97861606e-01  5.70855491e-01]\n"
     ]
    }
   ],
   "source": [
    "wires=4\n",
    "devcustom1 = qml.device(\"default.qubit\", wires=wires)\n",
    "H = random_observable(wires, seed)\n",
    "print(np.real(np.linalg.eig(H)[0]))\n",
    "@qml.qnode(devcustom1, diff_method=\"backprop\")\n",
    "def custom_circuit(params):\n",
    "  qml.PauliRot(params[0], \"XY\", wires=[0,1])\n",
    "  qml.PauliRot(-1*params[0], \"YZ\", wires=[1,2])\n",
    "  qml.PauliRot(params[0], \"ZX\", wires=[2,3])\n",
    "  qml.RX(params[1], wires=0)\n",
    "  qml.RX(params[2], wires=1)\n",
    "  qml.RX(params[3], wires=2)\n",
    "  qml.RX(params[4], wires=3)\n",
    "  qml.broadcast(qml.CNOT, wires=devcustom1.wires, pattern=\"ring\")\n",
    "  qml.PauliRot(params[5], \"XY\", wires=[0,1])\n",
    "  qml.PauliRot(-1*params[5], \"YZ\", wires=[1,2])\n",
    "  qml.PauliRot(params[5], \"ZX\", wires=[2,3])\n",
    "  qml.broadcast(qml.CNOT, wires=devcustom1.wires, pattern=\"ring\")\n",
    "  return qml.expval(qml.Hermitian(H, wires=devcustom1.wires))"
   ]
  },
  {
   "cell_type": "code",
   "execution_count": 194,
   "id": "000f801c",
   "metadata": {},
   "outputs": [
    {
     "name": "stdout",
     "output_type": "stream",
     "text": [
      "\n"
     ]
    },
    {
     "data": {
      "image/png": "[encoded data removed]",
      "text/plain": [
       "<Figure size 1152x360 with 1 Axes>"
      ]
     },
     "metadata": {},
     "output_type": "display_data"
    }
   ],
   "source": [
    "print()\n",
    "params = np.random.random([6], requires_grad=True)\n",
    "fig, ax = qml.draw_mpl(custom_circuit, decimals=2)(params)"
   ]
  },
  {
   "cell_type": "code",
   "execution_count": 231,
   "id": "c5fbea01",
   "metadata": {},
   "outputs": [],
   "source": [
    "def parameter_shift_term_custom(circuit, params, idx):\n",
    "  new_params = np.copy(params)\n",
    "  new_params[idx] += np.pi/6\n",
    "  forward_exp = circuit(new_params)\n",
    "  \n",
    "  new_params[idx] -= np.pi/3\n",
    "  backward_exp = circuit(new_params)\n",
    "  \n",
    "  grad = (1.5)*(forward_exp - backward_exp)\n",
    "  return grad"
   ]
  },
  {
   "cell_type": "code",
   "execution_count": 232,
   "id": "ca7e5680",
   "metadata": {},
   "outputs": [],
   "source": [
    "def parameter_shift_all_custom(circuit, params):\n",
    "  grads = np.zeros([len(params)])\n",
    "  for idx, param in enumerate(params):\n",
    "    grads[idx] = parameter_shift_term_custom(circuit, params, idx)\n",
    "  return grads"
   ]
  },
  {
   "cell_type": "code",
   "execution_count": 233,
   "id": "581ef1ed",
   "metadata": {},
   "outputs": [],
   "source": [
    "def update_params(params, grads, lr=0.01):\n",
    "  return params - lr*grads"
   ]
  },
  {
   "cell_type": "code",
   "execution_count": 234,
   "id": "b90f07f5",
   "metadata": {},
   "outputs": [],
   "source": [
    "import tqdm"
   ]
  },
  {
   "cell_type": "code",
   "execution_count": 277,
   "id": "0d47a2c3",
   "metadata": {},
   "outputs": [
    {
     "name": "stdout",
     "output_type": "stream",
     "text": [
      "params [0.0841557  0.86416542 0.4626533  0.37909641 0.7564178  0.07910414]\n",
      "real grad 0.3859230828862592, real param [0.0841557  0.86416542 0.4626533  0.37909641 0.7564178  0.07910414]\n",
      "approx grad 0.5306308859027549\n"
     ]
    }
   ],
   "source": [
    "# params = np.random.random([6], requires_grad=True)\n",
    "print(f\"params {params}\")\n",
    "grad_function = qml.grad(custom_circuit)\n",
    "print(f\"real grad {grad_function(params)[0]}, real param {params}\")\n",
    "print(f\"approx grad {parameter_shift_term_custom(custom_circuit, params, 0)}\")\n",
    "def trainPauliWordCirq(circuit, params, gradfuns, lr=0.1, numiters = 1000):\n",
    "  costs = []\n",
    "  lrs = []\n",
    "  allapproxgrads = []\n",
    "  allrealgrads = []\n",
    "  grad_function = qml.grad(circuit)\n",
    "  for i in range(numiters):\n",
    "    prev_cost = circuit(params)\n",
    "    if i%100 == 0:\n",
    "      print(f\"Iter {i} - Expval of circuit: {circuit(params)}\")\n",
    "      \n",
    "    # approx grad calculation\n",
    "    approxgrads = np.array([g(circuit, params, i) for i, g in enumerate(gradfuns)])\n",
    "    # real grad calculation\n",
    "    realgrad = grad_function(params)\n",
    "    # update params\n",
    "    params = update_params(params, approxgrads, lr)\n",
    "    curr_cost = circuit(params)\n",
    "    \n",
    "    \n",
    "    \n",
    "    ### collect data\n",
    "    costs.append(prev_cost)\n",
    "    lrs.append(lr)\n",
    "    allapproxgrads.append(approxgrads)\n",
    "    allrealgrads.append(realgrad)\n",
    "    \n",
    "\n",
    "  return params, costs, lrs, allapproxgrads, allrealgrads"
   ]
  },
  {
   "cell_type": "code",
   "execution_count": 278,
   "id": "03a661a9",
   "metadata": {},
   "outputs": [
    {
     "data": {
      "text/plain": [
       "tensor([ 0.53063089,  0.2412754 , -0.74792542,  0.52549841,  0.88188921,\n",
       "        -0.58862737], requires_grad=True)"
      ]
     },
     "execution_count": 278,
     "metadata": {},
     "output_type": "execute_result"
    }
   ],
   "source": [
    "parameter_shift_all_custom(custom_circuit, params)"
   ]
  },
  {
   "cell_type": "code",
   "execution_count": 279,
   "id": "5d2b4527",
   "metadata": {},
   "outputs": [
    {
     "name": "stdout",
     "output_type": "stream",
     "text": [
      "Iter 0 - Expval of circuit: 0.46667103985955216\n",
      "Iter 100 - Expval of circuit: -1.4683858561037488\n",
      "Iter 200 - Expval of circuit: -1.999543164188349\n",
      "Iter 300 - Expval of circuit: -2.065596360822709\n",
      "Iter 400 - Expval of circuit: -2.077575801540889\n",
      "Iter 500 - Expval of circuit: -2.0814283919835943\n",
      "Iter 600 - Expval of circuit: -2.0831061150093597\n",
      "Iter 700 - Expval of circuit: -2.0839643449644463\n",
      "Iter 800 - Expval of circuit: -2.084452854245771\n",
      "Iter 900 - Expval of circuit: -2.0847534649812043\n"
     ]
    }
   ],
   "source": [
    "numiters = 1000\n",
    "new_params, approxcosts, lrs, allapproxgrads, allrealgrads = trainPauliWordCirq(custom_circuit, params, [parameter_shift_term_custom, parameter_shift_term, parameter_shift_term, parameter_shift_term, parameter_shift_term, parameter_shift_term_custom],lr=0.01, numiters=numiters)\n",
    "\n"
   ]
  },
  {
   "cell_type": "code",
   "execution_count": 280,
   "id": "473aeb33",
   "metadata": {},
   "outputs": [],
   "source": [
    "# len(app)\n",
    "green = \"#209494\"\n",
    "orange = \"#ED7D31\"\n",
    "red = \"xkcd:brick red\"\n",
    "blue = \"xkcd:cerulean\"\n",
    "pink = \"xkcd:bright pink\""
   ]
  },
  {
   "cell_type": "code",
   "execution_count": 281,
   "id": "c8de84ef",
   "metadata": {},
   "outputs": [
    {
     "name": "stdout",
     "output_type": "stream",
     "text": [
      "(1000, 6) (1000, 6)\n"
     ]
    }
   ],
   "source": [
    "allrealgrads = np.array(allrealgrads)\n",
    "allapproxgrads = np.array(allapproxgrads)\n",
    "print(allrealgrads.shape, allapproxgrads.shape)\n"
   ]
  },
  {
   "cell_type": "code",
   "execution_count": 282,
   "id": "9649647a",
   "metadata": {},
   "outputs": [
    {
     "data": {
      "image/png": "[encoded data removed]",
      "text/plain": [
       "<Figure size 432x288 with 1 Axes>"
      ]
     },
     "metadata": {},
     "output_type": "display_data"
    }
   ],
   "source": [
    "plt.plot(np.arange(numiters), allrealgrads[:, 0], label=\"real gradient\", color=\"xkcd:brick red\")\n",
    "plt.plot(np.arange(numiters), allapproxgrads[:,0], label=\"approx gradient\", color=\"#209494\", linestyle=\"dashed\")\n",
    "plt.ylabel(\"Gradient value\")\n",
    "plt.xlabel(\"Iterations\")\n",
    "plt.legend()\n",
    "plt.show()"
   ]
  },
  {
   "cell_type": "code",
   "execution_count": 283,
   "id": "e5990442",
   "metadata": {},
   "outputs": [
    {
     "data": {
      "image/png": "[encoded data removed]",
      "text/plain": [
       "<Figure size 1008x432 with 6 Axes>"
      ]
     },
     "metadata": {},
     "output_type": "display_data"
    }
   ],
   "source": [
    "fig, axs = plt.subplots(2, 3, figsize=(14, 6))\n",
    "alltitles = [\"$\\mu_{1}$\", \"$\\mu_{2}$\", \"$\\mu_{3}$\", \"$\\mu_{4}$\", \"$\\mu_{5}$\", \"$\\mu_{6}$\"]\n",
    "for i, (ax, N) in enumerate(zip(np.ndarray.flatten(axs), params)):\n",
    "    # Plot cost function evaluations\n",
    "    ax.plot(np.arange(numiters), allrealgrads[:, i], label=\"real gradient\", color=\"xkcd:brick red\")\n",
    "    ax.plot(np.arange(numiters), allapproxgrads[:,i], label=\"approx gradient\", color=\"#209494\", linestyle=\"dashed\")\n",
    "    plt.legend\n",
    "    # Axis and plot labels\n",
    "    ax.set_title(f\"{alltitles[i]}\")\n",
    "\n",
    "_ = axs[1][1].set_xlabel(\"$Iterations$\")\n",
    "_ = axs[1][0].set_ylabel(\"$Gradient$ $Values$\")\n",
    "handles, labels = axs[0][0].get_legend_handles_labels()\n",
    "fig.legend(handles, labels, loc='upper right')\n",
    "plt.savefig(\"images/fouriergrads.svg\")\n",
    "plt.show()"
   ]
  },
  {
   "cell_type": "code",
   "execution_count": 284,
   "id": "8a123ff5",
   "metadata": {},
   "outputs": [
    {
     "name": "stdout",
     "output_type": "stream",
     "text": [
      "[0.0841557  0.86416542 0.4626533  0.37909641 0.7564178  0.07910414] [1.41043822 1.10161439 1.45418182 0.6148435  0.03988388 0.88496891]\n"
     ]
    }
   ],
   "source": [
    "print(params, new_params)"
   ]
  },
  {
   "cell_type": "code",
   "execution_count": 285,
   "id": "fb8e6142",
   "metadata": {},
   "outputs": [
    {
     "data": {
      "text/plain": [
       "tensor([ 1.12385793e+00,  1.12270396e+00,  1.12160555e+00,\n",
       "         1.12055939e+00,  1.11956234e+00,  1.11861148e+00,\n",
       "         1.11770400e+00,  1.11683731e+00,  1.11600894e+00,\n",
       "         1.11521660e+00,  1.11445814e+00,  1.11373155e+00,\n",
       "         1.11303496e+00,  1.11236665e+00,  1.11172502e+00,\n",
       "         1.11110859e+00,  1.11051603e+00,  1.10994612e+00,\n",
       "         1.10939774e+00,  1.10886993e+00,  1.10836179e+00,\n",
       "         1.10787257e+00,  1.10740160e+00,  1.10694831e+00,\n",
       "         1.10651225e+00,  1.10609303e+00,  1.10569038e+00,\n",
       "         1.10530408e+00,  1.10493400e+00,  1.10458008e+00,\n",
       "         1.10424232e+00,  1.10392078e+00,  1.10361555e+00,\n",
       "         1.10332677e+00,  1.10305458e+00,  1.10279918e+00,\n",
       "         1.10256071e+00,  1.10233936e+00,  1.10213523e+00,\n",
       "         1.10194842e+00,  1.10177896e+00,  1.10162680e+00,\n",
       "         1.10149179e+00,  1.10137367e+00,  1.10127204e+00,\n",
       "         1.10118636e+00,  1.10111592e+00,  1.10105979e+00,\n",
       "         1.10101686e+00,  1.10098577e+00,  1.10096495e+00,\n",
       "         1.10095252e+00,  1.10094636e+00,  1.10094405e+00,\n",
       "         1.10094289e+00,  1.10093987e+00,  1.10093167e+00,\n",
       "         1.10091466e+00,  1.10088492e+00,  1.10083823e+00,\n",
       "         1.10077005e+00,  1.10067559e+00,  1.10054978e+00,\n",
       "         1.10038728e+00,  1.10018256e+00,  1.09992982e+00,\n",
       "         1.09962311e+00,  1.09925630e+00,  1.09882311e+00,\n",
       "         1.09831718e+00,  1.09773203e+00,  1.09706117e+00,\n",
       "         1.09629809e+00,  1.09543630e+00,  1.09446941e+00,\n",
       "         1.09339116e+00,  1.09219547e+00,  1.09087653e+00,\n",
       "         1.08942889e+00,  1.08784752e+00,  1.08612796e+00,\n",
       "         1.08426646e+00,  1.08226013e+00,  1.08010715e+00,\n",
       "         1.07780700e+00,  1.07536075e+00,  1.07277139e+00,\n",
       "         1.07004423e+00,  1.06718734e+00,  1.06421215e+00,\n",
       "         1.06113400e+00,  1.05797291e+00,  1.05475436e+00,\n",
       "         1.05151023e+00,  1.04827977e+00,  1.04511069e+00,\n",
       "         1.04206031e+00,  1.03919668e+00,  1.03659973e+00,\n",
       "         1.03436217e+00,  1.03259031e+00,  1.03140438e+00,\n",
       "         1.03093834e+00,  1.03133892e+00,  1.03276377e+00,\n",
       "         1.03537837e+00,  1.03935166e+00,  1.04485025e+00,\n",
       "         1.05203131e+00,  1.06103426e+00,  1.07197183e+00,\n",
       "         1.08492098e+00,  1.09991469e+00,  1.11693534e+00,\n",
       "         1.13591083e+00,  1.15671399e+00,  1.17916574e+00,\n",
       "         1.20304201e+00,  1.22808385e+00,  1.25400974e+00,\n",
       "         1.28052910e+00,  1.30735548e+00,  1.33421842e+00,\n",
       "         1.36087313e+00,  1.38710740e+00,  1.41274560e+00,\n",
       "         1.43765009e+00,  1.46172032e+00,  1.48489024e+00,\n",
       "         1.50712451e+00,  1.52841413e+00,  1.54877187e+00,\n",
       "         1.56822776e+00,  1.58682501e+00,  1.60461636e+00,\n",
       "         1.62166099e+00,  1.63802198e+00,  1.65376424e+00,\n",
       "         1.66895297e+00,  1.68365246e+00,  1.69792526e+00,\n",
       "         1.71183161e+00,  1.72542906e+00,  1.73877236e+00,\n",
       "         1.75191336e+00,  1.76490104e+00,  1.77778171e+00,\n",
       "         1.79059910e+00,  1.80339461e+00,  1.81620749e+00,\n",
       "         1.82907510e+00,  1.84203317e+00,  1.85511598e+00,\n",
       "         1.86835662e+00,  1.88178723e+00,  1.89543920e+00,\n",
       "         1.90934341e+00,  1.92353041e+00,  1.93803064e+00,\n",
       "         1.95287464e+00,  1.96809325e+00,  1.98371777e+00,\n",
       "         1.99978022e+00,  2.01631348e+00,  2.03335153e+00,\n",
       "         2.05092966e+00,  2.06908469e+00,  2.08785517e+00,\n",
       "         2.10728169e+00,  2.12740706e+00,  2.14827667e+00,\n",
       "         2.16993875e+00,  2.19244472e+00,  2.21584953e+00,\n",
       "         2.24021211e+00,  2.26559578e+00,  2.29206877e+00,\n",
       "         2.31970476e+00,  2.34858349e+00,  2.37879153e+00,\n",
       "         2.41042299e+00,  2.44358047e+00,  2.47837611e+00,\n",
       "         2.51493271e+00,  2.55338513e+00,  2.59388179e+00,\n",
       "         2.63658653e+00,  2.68168064e+00,  2.72936535e+00,\n",
       "         2.77986457e+00,  2.83342835e+00,  2.89033673e+00,\n",
       "         2.95090444e+00,  3.01548650e+00,  3.08448487e+00,\n",
       "         3.15835651e+00,  3.23762316e+00,  3.32288324e+00,\n",
       "         3.41482653e+00,  3.51425231e+00,  3.62209202e+00,\n",
       "         3.73943776e+00,  3.86757855e+00,  4.00804679e+00,\n",
       "         4.16267864e+00,  4.33369321e+00,  4.52379792e+00,\n",
       "         4.73633064e+00,  4.97545468e+00,  5.24643070e+00,\n",
       "         5.55600386e+00,  5.91296728e+00,  6.32900313e+00,\n",
       "         6.81997551e+00,  7.40798563e+00,  8.12477141e+00,\n",
       "         9.01760238e+00,  1.01601052e+01,  1.16736103e+01,\n",
       "         1.37732544e+01,  1.68803606e+01,  2.19472813e+01,\n",
       "         3.16789241e+01,  5.79991347e+01,  3.87526195e+02,\n",
       "        -8.04832897e+01, -3.59932887e+01, -2.29873731e+01,\n",
       "        -1.67809839e+01, -1.31476390e+01, -1.07624793e+01,\n",
       "        -9.07696389e+00, -7.82290685e+00, -6.85366067e+00,\n",
       "        -6.08227317e+00, -5.45391812e+00, -4.93231290e+00,\n",
       "        -4.49248978e+00, -4.11670417e+00, -3.79199868e+00,\n",
       "        -3.50869074e+00, -3.25939945e+00, -3.03840004e+00,\n",
       "        -2.84118397e+00, -2.66415228e+00, -2.50439716e+00,\n",
       "        -2.35954366e+00, -2.22763294e+00, -2.10703499e+00,\n",
       "        -1.99638235e+00, -1.89451935e+00, -1.80046257e+00,\n",
       "        -1.71336993e+00, -1.63251615e+00, -1.55727322e+00,\n",
       "        -1.48709455e+00, -1.42150223e+00, -1.36007658e+00,\n",
       "        -1.30244748e+00, -1.24828733e+00, -1.19730507e+00,\n",
       "        -1.14924123e+00, -1.10386376e+00, -1.06096451e+00,\n",
       "        -1.02035619e+00, -9.81869865e-01, -9.45352729e-01,\n",
       "        -9.10666235e-01, -8.77684466e-01, -8.46292726e-01,\n",
       "        -8.16386319e-01, -7.87869478e-01, -7.60654435e-01,\n",
       "        -7.34660600e-01, -7.09813843e-01, -6.86045857e-01,\n",
       "        -6.63293598e-01, -6.41498787e-01, -6.20607469e-01,\n",
       "        -6.00569615e-01, -5.81338776e-01, -5.62871763e-01,\n",
       "        -5.45128370e-01, -5.28071118e-01, -5.11665029e-01,\n",
       "        -4.95877420e-01, -4.80677716e-01, -4.66037287e-01,\n",
       "        -4.51929290e-01, -4.38328537e-01, -4.25211366e-01,\n",
       "        -4.12555528e-01, -4.00340083e-01, -3.88545305e-01,\n",
       "        -3.77152597e-01, -3.66144409e-01, -3.55504167e-01,\n",
       "        -3.45216204e-01, -3.35265702e-01, -3.25638634e-01,\n",
       "        -3.16321711e-01, -3.07302334e-01, -2.98568553e-01,\n",
       "        -2.90109021e-01, -2.81912963e-01, -2.73970133e-01,\n",
       "        -2.66270789e-01, -2.58805656e-01, -2.51565905e-01,\n",
       "        -2.44543122e-01, -2.37729285e-01, -2.31116743e-01,\n",
       "        -2.24698195e-01, -2.18466667e-01, -2.12415498e-01,\n",
       "        -2.06538320e-01, -2.00829046e-01, -1.95281850e-01,\n",
       "        -1.89891155e-01, -1.84651623e-01, -1.79558138e-01,\n",
       "        -1.74605798e-01, -1.69789901e-01, -1.65105939e-01,\n",
       "        -1.60549585e-01, -1.56116685e-01, -1.51803251e-01,\n",
       "        -1.47605450e-01, -1.43519601e-01, -1.39542162e-01,\n",
       "        -1.35669729e-01, -1.31899027e-01, -1.28226903e-01,\n",
       "        -1.24650324e-01, -1.21166367e-01, -1.17772218e-01,\n",
       "        -1.14465165e-01, -1.11242594e-01, -1.08101986e-01,\n",
       "        -1.05040911e-01, -1.02057023e-01, -9.91480628e-02,\n",
       "        -9.63118457e-02, -9.35462648e-02, -9.08492851e-02,\n",
       "        -8.82189410e-02, -8.56533335e-02, -8.31506277e-02,\n",
       "        -8.07090498e-02, -7.83268853e-02, -7.60024758e-02,\n",
       "        -7.37342177e-02, -7.15205595e-02, -6.93600000e-02,\n",
       "        -6.72510861e-02, -6.51924116e-02, -6.31826147e-02,\n",
       "        -6.12203767e-02, -5.93044205e-02, -5.74335089e-02,\n",
       "        -5.56064430e-02, -5.38220611e-02, -5.20792372e-02,\n",
       "        -5.03768796e-02, -4.87139301e-02, -4.70893621e-02,\n",
       "        -4.55021804e-02, -4.39514191e-02, -4.24361415e-02,\n",
       "        -4.09554383e-02, -3.95084274e-02, -3.80942524e-02,\n",
       "        -3.67120819e-02, -3.53611088e-02, -3.40405492e-02,\n",
       "        -3.27496420e-02, -3.14876478e-02, -3.02538484e-02,\n",
       "        -2.90475459e-02, -2.78680624e-02, -2.67147388e-02,\n",
       "        -2.55869347e-02, -2.44840277e-02, -2.34054125e-02,\n",
       "        -2.23505007e-02, -2.13187201e-02, -2.03095144e-02,\n",
       "        -1.93223424e-02, -1.83566776e-02, -1.74120081e-02,\n",
       "        -1.64878356e-02, -1.55836753e-02, -1.46990556e-02,\n",
       "        -1.38335174e-02, -1.29866138e-02, -1.21579100e-02,\n",
       "        -1.13469824e-02, -1.05534190e-02, -9.77681825e-03,\n",
       "        -9.01678944e-03, -8.27295193e-03, -7.54493501e-03,\n",
       "        -6.83237763e-03, -6.13492807e-03, -5.45224368e-03,\n",
       "        -4.78399066e-03, -4.12984372e-03, -3.48948592e-03,\n",
       "        -2.86260840e-03, -2.24891011e-03, -1.64809766e-03,\n",
       "        -1.05988505e-03, -4.83993481e-04,  7.98488406e-05,\n",
       "         6.31906917e-04,  1.17243914e-03,  1.70169746e-03,\n",
       "         2.21992760e-03,  2.72736918e-03,  3.22425594e-03,\n",
       "         3.71081586e-03,  4.18727131e-03,  4.65383926e-03,\n",
       "         5.11073136e-03,  5.55815412e-03,  5.99630906e-03,\n",
       "         6.42539282e-03,  6.84559727e-03,  7.25710971e-03,\n",
       "         7.66011292e-03,  8.05478532e-03,  8.44130106e-03,\n",
       "         8.81983017e-03,  9.19053862e-03,  9.55358848e-03,\n",
       "         9.90913798e-03,  1.02573416e-02,  1.05983503e-02,\n",
       "         1.09323114e-02,  1.12593687e-02,  1.15796629e-02,\n",
       "         1.18933312e-02,  1.22005078e-02,  1.25013236e-02,\n",
       "         1.27959067e-02,  1.30843821e-02,  1.33668721e-02,\n",
       "         1.36434959e-02,  1.39143702e-02,  1.41796092e-02,\n",
       "         1.44393242e-02,  1.46936241e-02,  1.49426153e-02,\n",
       "         1.51864020e-02,  1.54250859e-02,  1.56587663e-02,\n",
       "         1.58875406e-02,  1.61115037e-02,  1.63307487e-02,\n",
       "         1.65453663e-02,  1.67554456e-02,  1.69610733e-02,\n",
       "         1.71623345e-02,  1.73593124e-02,  1.75520883e-02,\n",
       "         1.77407417e-02,  1.79253504e-02,  1.81059907e-02,\n",
       "         1.82827369e-02,  1.84556620e-02,  1.86248373e-02,\n",
       "         1.87903325e-02,  1.89522160e-02,  1.91105545e-02,\n",
       "         1.92654136e-02,  1.94168571e-02,  1.95649479e-02,\n",
       "         1.97097472e-02,  1.98513151e-02,  1.99897103e-02,\n",
       "         2.01249905e-02,  2.02572120e-02,  2.03864300e-02,\n",
       "         2.05126985e-02,  2.06360704e-02,  2.07565977e-02,\n",
       "         2.08743310e-02,  2.09893201e-02,  2.11016137e-02,\n",
       "         2.12112594e-02,  2.13183042e-02,  2.14227936e-02,\n",
       "         2.15247726e-02,  2.16242853e-02,  2.17213745e-02,\n",
       "         2.18160826e-02,  2.19084510e-02,  2.19985201e-02,\n",
       "         2.20863297e-02,  2.21719189e-02,  2.22553257e-02,\n",
       "         2.23365875e-02,  2.24157412e-02,  2.24928227e-02,\n",
       "         2.25678672e-02,  2.26409093e-02,  2.27119831e-02,\n",
       "         2.27811216e-02,  2.28483577e-02,  2.29137231e-02,\n",
       "         2.29772495e-02,  2.30389675e-02,  2.30989073e-02,\n",
       "         2.31570985e-02,  2.32135703e-02,  2.32683512e-02,\n",
       "         2.33214691e-02,  2.33729515e-02,  2.34228254e-02,\n",
       "         2.34711171e-02,  2.35178527e-02,  2.35630577e-02,\n",
       "         2.36067569e-02,  2.36489751e-02,  2.36897362e-02,\n",
       "         2.37290640e-02,  2.37669817e-02,  2.38035121e-02,\n",
       "         2.38386775e-02,  2.38725000e-02,  2.39050012e-02,\n",
       "         2.39362023e-02,  2.39661241e-02,  2.39947871e-02,\n",
       "         2.40222114e-02,  2.40484167e-02,  2.40734225e-02,\n",
       "         2.40972478e-02,  2.41199113e-02,  2.41414314e-02,\n",
       "         2.41618263e-02,  2.41811136e-02,  2.41993110e-02,\n",
       "         2.42164354e-02,  2.42325038e-02,  2.42475328e-02,\n",
       "         2.42615387e-02,  2.42745375e-02,  2.42865450e-02,\n",
       "         2.42975766e-02,  2.43076476e-02,  2.43167730e-02,\n",
       "         2.43249674e-02,  2.43322455e-02,  2.43386214e-02,\n",
       "         2.43441091e-02,  2.43487224e-02,  2.43524749e-02,\n",
       "         2.43553799e-02,  2.43574506e-02,  2.43586998e-02,\n",
       "         2.43591402e-02,  2.43587843e-02,  2.43576445e-02,\n",
       "         2.43557327e-02,  2.43530610e-02,  2.43496411e-02,\n",
       "         2.43454844e-02,  2.43406024e-02,  2.43350061e-02,\n",
       "         2.43287066e-02,  2.43217148e-02,  2.43140412e-02,\n",
       "         2.43056964e-02,  2.42966907e-02,  2.42870343e-02,\n",
       "         2.42767372e-02,  2.42658092e-02,  2.42542601e-02,\n",
       "         2.42420995e-02,  2.42293367e-02,  2.42159810e-02,\n",
       "         2.42020417e-02,  2.41875276e-02,  2.41724477e-02,\n",
       "         2.41568107e-02,  2.41406252e-02,  2.41238997e-02,\n",
       "         2.41066425e-02,  2.40888619e-02,  2.40705660e-02,\n",
       "         2.40517628e-02,  2.40324602e-02,  2.40126659e-02,\n",
       "         2.39923876e-02,  2.39716328e-02,  2.39504090e-02,\n",
       "         2.39287235e-02,  2.39065835e-02,  2.38839961e-02,\n",
       "         2.38609685e-02,  2.38375073e-02,  2.38136196e-02,\n",
       "         2.37893121e-02,  2.37645913e-02,  2.37394638e-02,\n",
       "         2.37139360e-02,  2.36880144e-02,  2.36617052e-02,\n",
       "         2.36350145e-02,  2.36079485e-02,  2.35805133e-02,\n",
       "         2.35527146e-02,  2.35245584e-02,  2.34960505e-02,\n",
       "         2.34671965e-02,  2.34380021e-02,  2.34084728e-02,\n",
       "         2.33786141e-02,  2.33484314e-02,  2.33179299e-02,\n",
       "         2.32871150e-02,  2.32559919e-02,  2.32245655e-02,\n",
       "         2.31928410e-02,  2.31608234e-02,  2.31285176e-02,\n",
       "         2.30959284e-02,  2.30630605e-02,  2.30299188e-02,\n",
       "         2.29965079e-02,  2.29628323e-02,  2.29288967e-02,\n",
       "         2.28947054e-02,  2.28602630e-02,  2.28255737e-02,\n",
       "         2.27906419e-02,  2.27554718e-02,  2.27200677e-02,\n",
       "         2.26844336e-02,  2.26485737e-02,  2.26124920e-02,\n",
       "         2.25761925e-02,  2.25396791e-02,  2.25029557e-02,\n",
       "         2.24660262e-02,  2.24288943e-02,  2.23915637e-02,\n",
       "         2.23540383e-02,  2.23163215e-02,  2.22784170e-02,\n",
       "         2.22403284e-02,  2.22020591e-02,  2.21636127e-02,\n",
       "         2.21249926e-02,  2.20862021e-02,  2.20472445e-02,\n",
       "         2.20081233e-02,  2.19688415e-02,  2.19294026e-02,\n",
       "         2.18898095e-02,  2.18500655e-02,  2.18101736e-02,\n",
       "         2.17701369e-02,  2.17299585e-02,  2.16896413e-02,\n",
       "         2.16491882e-02,  2.16086023e-02,  2.15678862e-02,\n",
       "         2.15270430e-02,  2.14860753e-02,  2.14449860e-02,\n",
       "         2.14037778e-02,  2.13624534e-02,  2.13210154e-02,\n",
       "         2.12794666e-02,  2.12378095e-02,  2.11960466e-02,\n",
       "         2.11541806e-02,  2.11122140e-02,  2.10701491e-02,\n",
       "         2.10279885e-02,  2.09857346e-02,  2.09433898e-02,\n",
       "         2.09009564e-02,  2.08584368e-02,  2.08158333e-02,\n",
       "         2.07731481e-02,  2.07303836e-02,  2.06875419e-02,\n",
       "         2.06446252e-02,  2.06016357e-02,  2.05585755e-02,\n",
       "         2.05154468e-02,  2.04722516e-02,  2.04289920e-02,\n",
       "         2.03856701e-02,  2.03422879e-02,  2.02988473e-02,\n",
       "         2.02553503e-02,  2.02117989e-02,  2.01681950e-02,\n",
       "         2.01245405e-02,  2.00808372e-02,  2.00370871e-02,\n",
       "         1.99932919e-02,  1.99494534e-02,  1.99055735e-02,\n",
       "         1.98616538e-02,  1.98176962e-02,  1.97737024e-02,\n",
       "         1.97296740e-02,  1.96856127e-02,  1.96415202e-02,\n",
       "         1.95973982e-02,  1.95532482e-02,  1.95090718e-02,\n",
       "         1.94648707e-02,  1.94206463e-02,  1.93764003e-02,\n",
       "         1.93321341e-02,  1.92878493e-02,  1.92435473e-02,\n",
       "         1.91992297e-02,  1.91548977e-02,  1.91105530e-02,\n",
       "         1.90661969e-02,  1.90218307e-02,  1.89774559e-02,\n",
       "         1.89330739e-02,  1.88886859e-02,  1.88442933e-02,\n",
       "         1.87998975e-02,  1.87554997e-02,  1.87111011e-02,\n",
       "         1.86667032e-02,  1.86223070e-02,  1.85779139e-02,\n",
       "         1.85335250e-02,  1.84891416e-02,  1.84447648e-02,\n",
       "         1.84003958e-02,  1.83560359e-02,  1.83116860e-02,\n",
       "         1.82673474e-02,  1.82230211e-02,  1.81787084e-02,\n",
       "         1.81344101e-02,  1.80901275e-02,  1.80458616e-02,\n",
       "         1.80016133e-02,  1.79573839e-02,  1.79131742e-02,\n",
       "         1.78689853e-02,  1.78248181e-02,  1.77806738e-02,\n",
       "         1.77365531e-02,  1.76924571e-02,  1.76483868e-02,\n",
       "         1.76043430e-02,  1.75603266e-02,  1.75163387e-02,\n",
       "         1.74723800e-02,  1.74284515e-02,  1.73845539e-02,\n",
       "         1.73406883e-02,  1.72968554e-02,  1.72530561e-02,\n",
       "         1.72092912e-02,  1.71655615e-02,  1.71218678e-02,\n",
       "         1.70782109e-02,  1.70345916e-02,  1.69910107e-02,\n",
       "         1.69474689e-02,  1.69039670e-02,  1.68605057e-02,\n",
       "         1.68170858e-02,  1.67737079e-02,  1.67303729e-02,\n",
       "         1.66870813e-02,  1.66438339e-02,  1.66006314e-02,\n",
       "         1.65574744e-02,  1.65143636e-02,  1.64712996e-02,\n",
       "         1.64282832e-02,  1.63853149e-02,  1.63423954e-02,\n",
       "         1.62995252e-02,  1.62567051e-02,  1.62139355e-02,\n",
       "         1.61712172e-02,  1.61285506e-02,  1.60859363e-02,\n",
       "         1.60433750e-02,  1.60008671e-02,  1.59584133e-02,\n",
       "         1.59160140e-02,  1.58736699e-02,  1.58313813e-02,\n",
       "         1.57891490e-02,  1.57469732e-02,  1.57048547e-02,\n",
       "         1.56627937e-02,  1.56207910e-02,  1.55788468e-02,\n",
       "         1.55369618e-02,  1.54951363e-02,  1.54533709e-02,\n",
       "         1.54116659e-02,  1.53700219e-02,  1.53284392e-02,\n",
       "         1.52869183e-02,  1.52454596e-02,  1.52040636e-02,\n",
       "         1.51627306e-02,  1.51214611e-02,  1.50802554e-02,\n",
       "         1.50391139e-02,  1.49980371e-02,  1.49570252e-02,\n",
       "         1.49160787e-02,  1.48751980e-02,  1.48343834e-02,\n",
       "         1.47936352e-02,  1.47529538e-02,  1.47123396e-02,\n",
       "         1.46717928e-02,  1.46313139e-02,  1.45909031e-02,\n",
       "         1.45505607e-02,  1.45102871e-02,  1.44700826e-02,\n",
       "         1.44299474e-02,  1.43898819e-02,  1.43498863e-02,\n",
       "         1.43099610e-02,  1.42701063e-02,  1.42303223e-02,\n",
       "         1.41906094e-02,  1.41509678e-02,  1.41113978e-02,\n",
       "         1.40718997e-02,  1.40324736e-02,  1.39931199e-02,\n",
       "         1.39538388e-02,  1.39146305e-02,  1.38754952e-02,\n",
       "         1.38364332e-02,  1.37974447e-02,  1.37585299e-02,\n",
       "         1.37196890e-02,  1.36809222e-02,  1.36422298e-02,\n",
       "         1.36036119e-02,  1.35650687e-02,  1.35266004e-02,\n",
       "         1.34882072e-02,  1.34498893e-02,  1.34116468e-02,\n",
       "         1.33734799e-02,  1.33353889e-02,  1.32973738e-02,\n",
       "         1.32594348e-02,  1.32215721e-02,  1.31837858e-02,\n",
       "         1.31460760e-02,  1.31084430e-02,  1.30708869e-02,\n",
       "         1.30334077e-02,  1.29960057e-02,  1.29586809e-02,\n",
       "         1.29214335e-02,  1.28842636e-02,  1.28471713e-02,\n",
       "         1.28101568e-02,  1.27732201e-02,  1.27363614e-02,\n",
       "         1.26995808e-02,  1.26628783e-02,  1.26262540e-02,\n",
       "         1.25897082e-02,  1.25532407e-02,  1.25168519e-02,\n",
       "         1.24805416e-02,  1.24443101e-02,  1.24081573e-02,\n",
       "         1.23720834e-02,  1.23360884e-02,  1.23001724e-02,\n",
       "         1.22643355e-02,  1.22285778e-02,  1.21928992e-02,\n",
       "         1.21572999e-02,  1.21217799e-02,  1.20863392e-02,\n",
       "         1.20509780e-02,  1.20156962e-02,  1.19804939e-02,\n",
       "         1.19453711e-02,  1.19103280e-02,  1.18753644e-02,\n",
       "         1.18404805e-02,  1.18056763e-02,  1.17709518e-02,\n",
       "         1.17363070e-02,  1.17017420e-02,  1.16672568e-02,\n",
       "         1.16328513e-02,  1.15985257e-02,  1.15642799e-02,\n",
       "         1.15301139e-02,  1.14960278e-02,  1.14620216e-02,\n",
       "         1.14280952e-02,  1.13942486e-02,  1.13604820e-02,\n",
       "         1.13267952e-02,  1.12931882e-02,  1.12596611e-02,\n",
       "         1.12262138e-02,  1.11928464e-02,  1.11595587e-02,\n",
       "         1.11263509e-02,  1.10932229e-02,  1.10601746e-02,\n",
       "         1.10272061e-02,  1.09943173e-02,  1.09615082e-02,\n",
       "         1.09287787e-02,  1.08961289e-02,  1.08635587e-02,\n",
       "         1.08310681e-02,  1.07986571e-02,  1.07663256e-02,\n",
       "         1.07340735e-02,  1.07019009e-02,  1.06698076e-02,\n",
       "         1.06377937e-02,  1.06058592e-02,  1.05740038e-02,\n",
       "         1.05422277e-02,  1.05105308e-02,  1.04789130e-02,\n",
       "         1.04473742e-02,  1.04159144e-02,  1.03845336e-02,\n",
       "         1.03532317e-02,  1.03220087e-02,  1.02908644e-02,\n",
       "         1.02597988e-02,  1.02288119e-02,  1.01979035e-02,\n",
       "         1.01670737e-02,  1.01363224e-02,  1.01056494e-02,\n",
       "         1.00750548e-02,  1.00445384e-02,  1.00141001e-02,\n",
       "         9.98374002e-03,  9.95345792e-03,  9.92325377e-03,\n",
       "         9.89312750e-03,  9.86307902e-03,  9.83310826e-03,\n",
       "         9.80321513e-03,  9.77339955e-03,  9.74366144e-03,\n",
       "         9.71400072e-03,  9.68441729e-03,  9.65491107e-03,\n",
       "         9.62548198e-03,  9.59612992e-03,  9.56685481e-03,\n",
       "         9.53765654e-03,  9.50853504e-03,  9.47949021e-03,\n",
       "         9.45052195e-03,  9.42163017e-03,  9.39281477e-03,\n",
       "         9.36407566e-03,  9.33541273e-03,  9.30682589e-03,\n",
       "         9.27831505e-03,  9.24988008e-03,  9.22152091e-03,\n",
       "         9.19323741e-03,  9.16502950e-03,  9.13689706e-03,\n",
       "         9.10883999e-03,  9.08085819e-03,  9.05295154e-03,\n",
       "         9.02511994e-03,  8.99736329e-03,  8.96968146e-03,\n",
       "         8.94207436e-03,  8.91454186e-03,  8.88708387e-03,\n",
       "         8.85970026e-03], requires_grad=True)"
      ]
     },
     "execution_count": 285,
     "metadata": {},
     "output_type": "execute_result"
    }
   ],
   "source": [
    "(allapproxgrads[:,5])/allrealgrads[:,5]"
   ]
  },
  {
   "cell_type": "code",
   "execution_count": 286,
   "id": "f89d9e79",
   "metadata": {},
   "outputs": [
    {
     "data": {
      "text/plain": [
       "tensor(0.75, requires_grad=True)"
      ]
     },
     "execution_count": 286,
     "metadata": {},
     "output_type": "execute_result"
    }
   ],
   "source": [
    "np.var(np.real(eigs[0]))"
   ]
  },
  {
   "cell_type": "code",
   "execution_count": 287,
   "id": "56a51410",
   "metadata": {},
   "outputs": [
    {
     "data": {
      "text/plain": [
       "tensor([-1.5,  1.5,  0.5, -1.5,  1.5,  0.5, -0.5, -0.5,  0.5, -0.5,  0.5,\n",
       "        -0.5,  0.5, -0.5,  0.5, -0.5], requires_grad=True)"
      ]
     },
     "execution_count": 287,
     "metadata": {},
     "output_type": "execute_result"
    }
   ],
   "source": [
    "np.real(eigs[0])"
   ]
  },
  {
   "cell_type": "code",
   "execution_count": 288,
   "id": "ca5c44fa",
   "metadata": {},
   "outputs": [
    {
     "name": "stdout",
     "output_type": "stream",
     "text": [
      "[0.99332901 0.99349156 0.99366241 0.9938413  0.99402794 0.99422192\n",
      " 0.99442278 0.99463    0.99484294 0.99506092 0.99528314 0.99550876\n",
      " 0.99573682 0.99596631 0.99619612 0.99642509 0.99665196 0.99687543\n",
      " 0.99709413 0.99730663 0.99751145 0.99770709 0.99789197 0.99806452\n",
      " 0.99822314 0.9983662  0.99849207 0.99859913 0.99868577 0.99875039\n",
      " 0.99879143 0.99880736 0.9987967  0.99875804 0.99869003 0.99859141\n",
      " 0.99846101 0.99829776 0.99810072 0.99786907 0.99760214 0.99729938\n",
      " 0.99696042 0.99658505 0.99617321 0.99572503 0.9952408  0.99472096\n",
      " 0.99416615 0.99357713 0.99295482 0.99230026 0.99161465 0.99089926\n",
      " 0.99015547 0.98938475 0.98858862 0.98776869 0.98692658 0.98606399\n",
      " 0.98518262 0.98428424 0.98337065 0.98244366 0.98150517 0.98055712\n",
      " 0.97960152 0.97864045 0.97767608 0.9767107  0.97574668 0.97478652\n",
      " 0.97383284 0.97288834 0.97195586 0.97103831 0.97013867 0.96925998\n",
      " 0.96840528 0.9675776  0.96677992 0.96601513 0.96528596 0.96459501\n",
      " 0.96394465 0.96333703 0.962774   0.96225718 0.96178786 0.96136704\n",
      " 0.96099541 0.96067337 0.96040106 0.96017834 0.96000484 0.95987997\n",
      " 0.95980296 0.95977291 0.95978874 0.95984933 0.95995343 0.96009976\n",
      " 0.960287   0.96051382 0.96077885 0.96108077 0.96141824 0.96178993\n",
      " 0.96219454 0.96263079 0.96309741 0.96359313 0.96411673 0.96466694\n",
      " 0.96524254 0.96584226 0.96646487 0.96710908 0.96777361 0.96845714\n",
      " 0.96915833 0.9698758  0.97060817 0.97135398 0.97211178 0.97288007\n",
      " 0.97365731 0.97444195 0.97523239 0.97602704 0.97682427 0.97762244\n",
      " 0.97841992 0.97921505 0.98000622 0.98079179 0.98157016 0.98233978\n",
      " 0.98309909 0.98384662 0.98458092 0.98530062 0.98600438 0.98669097\n",
      " 0.9873592  0.98800799 0.98863633 0.9892433  0.98982806 0.99038988\n",
      " 0.99092811 0.99144221 0.99193172 0.99239628 0.99283561 0.99324954\n",
      " 0.99363797 0.99400089 0.99433835 0.99465051 0.99493757 0.99519981\n",
      " 0.99543755 0.99565119 0.99584116 0.99600794 0.99615205 0.99627403\n",
      " 0.99637447 0.99645395 0.9965131  0.99655254 0.99657291 0.99657484\n",
      " 0.99655898 0.99652596 0.9964764  0.99641092 0.99633013 0.99623461\n",
      " 0.99612494 0.99600166 0.99586529 0.99571635 0.99555532 0.99538263\n",
      " 0.99519874 0.99500402 0.99479885 0.99458358 0.99435851 0.99412394\n",
      " 0.99388011 0.99362725 0.99336556 0.9930952  0.99281632 0.99252901\n",
      " 0.99223337 0.99192945 0.99161727 0.99129684 0.99096813 0.99063108\n",
      " 0.99028563 0.98993166 0.98956906 0.98919767 0.98881734 0.98842785\n",
      " 0.98802901 0.98762057 0.98720229 0.98677389 0.98633509 0.98588558\n",
      " 0.98542503 0.98495311 0.98446947 0.98397374 0.98346555 0.98294451\n",
      " 0.98241021 0.98186226 0.98130023 0.9807237  0.98013225 0.97952543\n",
      " 0.97890282 0.97826397 0.97760844 0.97693579 0.97624557 0.97553735\n",
      " 0.97481069 0.97406517 0.97330035 0.97251582 0.97171117 0.970886\n",
      " 0.97003992 0.96917254 0.9682835  0.96737245 0.96643904 0.96548297\n",
      " 0.96450391 0.96350158 0.96247572 0.96142606 0.96035238 0.95925447\n",
      " 0.95813214 0.95698522 0.95581356 0.95461705 0.95339559 0.95214909\n",
      " 0.95087753 0.94958085 0.94825908 0.94691222 0.94554034 0.9441435\n",
      " 0.94272179 0.94127535 0.93980433 0.93830888 0.93678922 0.93524555\n",
      " 0.93367812 0.9320872  0.93047307 0.92883604 0.92717644 0.92549462\n",
      " 0.92379096 0.92206583 0.92031965 0.91855285 0.91676585 0.91495913\n",
      " 0.91313315 0.9112884  0.90942538 0.90754461 0.9056466  0.90373188\n",
      " 0.90180102 0.89985455 0.89789303 0.89591704 0.89392715 0.89192394\n",
      " 0.88990799 0.88787989 0.88584023 0.8837896  0.88172858 0.87965779\n",
      " 0.8775778  0.87548921 0.87339261 0.87128858 0.86917771 0.86706057\n",
      " 0.86493775 0.86280981 0.86067731 0.85854082 0.85640088 0.85425804\n",
      " 0.85211283 0.84996579 0.84781742 0.84566825 0.84351878 0.84136949\n",
      " 0.83922087 0.83707339 0.83492752 0.83278371 0.83064239 0.82850401\n",
      " 0.82636897 0.82423769 0.82211056 0.81998798 0.81787031 0.81575793\n",
      " 0.81365118 0.8115504  0.80945593 0.80736808 0.80528716 0.80321347\n",
      " 0.80114729 0.7990889  0.79703856 0.79499652 0.79296302 0.7909383\n",
      " 0.78892257 0.78691605 0.78491893 0.78293141 0.78095366 0.77898586\n",
      " 0.77702816 0.77508073 0.77314369 0.77121718 0.76930132 0.76739624\n",
      " 0.76550204 0.76361882 0.76174666 0.75988565 0.75803586 0.75619737\n",
      " 0.75437023 0.75255449 0.75075021 0.74895741 0.74717613 0.7454064\n",
      " 0.74364824 0.74190165 0.74016665 0.73844324 0.73673142 0.73503117\n",
      " 0.73334249 0.73166535 0.72999973 0.7283456  0.72670292 0.72507167\n",
      " 0.72345179 0.72184325 0.72024599 0.71865996 0.7170851  0.71552135\n",
      " 0.71396866 0.71242694 0.71089614 0.70937617 0.70786697 0.70636845\n",
      " 0.70488054 0.70340315 0.70193619 0.70047958 0.69903324 0.69759705\n",
      " 0.69617094 0.69475481 0.69334856 0.69195209 0.69056531 0.68918811\n",
      " 0.68782038 0.68646203 0.68511295 0.68377304 0.68244218 0.68112028\n",
      " 0.67980722 0.67850289 0.67720718 0.67591999 0.67464119 0.67337069\n",
      " 0.67210837 0.67085412 0.66960782 0.66836937 0.66713865 0.66591554\n",
      " 0.66469994 0.66349174 0.66229082 0.66109706 0.65991037 0.65873061\n",
      " 0.6575577  0.6563915  0.65523192 0.65407884 0.65293215 0.65179174\n",
      " 0.6506575  0.64952932 0.64840711 0.64729074 0.64618011 0.64507512\n",
      " 0.64397565 0.64288162 0.6417929  0.64070941 0.63963103 0.63855766\n",
      " 0.63748921 0.63642557 0.63536664 0.63431234 0.63326255 0.63221719\n",
      " 0.63117615 0.63013935 0.62910669 0.62807808 0.62705342 0.62603263\n",
      " 0.62501562 0.6240023  0.62299259 0.62198639 0.62098362 0.6199842\n",
      " 0.61898805 0.61799508 0.61700521 0.61601837 0.61503448 0.61405346\n",
      " 0.61307523 0.61209973 0.61112686 0.61015658 0.6091888  0.60822345\n",
      " 0.60726046 0.60629978 0.60534132 0.60438503 0.60343084 0.6024787\n",
      " 0.60152853 0.60058028 0.59963389 0.5986893  0.59774646 0.5968053\n",
      " 0.59586578 0.59492784 0.59399144 0.59305651 0.59212301 0.59119089\n",
      " 0.59026011 0.58933061 0.58840236 0.58747531 0.58654942 0.58562464\n",
      " 0.58470094 0.58377828 0.58285661 0.58193591 0.58101613 0.58009725\n",
      " 0.57917922 0.57826202 0.57734561 0.57642997 0.57551506 0.57460086\n",
      " 0.57368734 0.57277448 0.57186224 0.57095061 0.57003956 0.56912907\n",
      " 0.56821912 0.56730969 0.56640076 0.56549231 0.56458433 0.5636768\n",
      " 0.5627697  0.56186302 0.56095675 0.56005087 0.55914537 0.55824024\n",
      " 0.55733548 0.55643107 0.555527   0.55462327 0.55371987 0.55281679\n",
      " 0.55191404 0.5510116  0.55010947 0.54920765 0.54830614 0.54740493\n",
      " 0.54650403 0.54560343 0.54470315 0.54380317 0.54290349 0.54200414\n",
      " 0.54110509 0.54020637 0.53930798 0.53840991 0.53751218 0.53661479\n",
      " 0.53571775 0.53482107 0.53392475 0.5330288  0.53213324 0.53123807\n",
      " 0.5303433  0.52944894 0.528555   0.5276615  0.52676845 0.52587585\n",
      " 0.52498372 0.52409208 0.52320093 0.52231029 0.52142017 0.5205306\n",
      " 0.51964157 0.51875312 0.51786525 0.51697797 0.51609132 0.51520529\n",
      " 0.51431991 0.51343519 0.51255115 0.51166781 0.51078518 0.50990329\n",
      " 0.50902214 0.50814177 0.50726218 0.50638339 0.50550542 0.50462829\n",
      " 0.50375203 0.50287664 0.50200214 0.50112856 0.50025592 0.49938422\n",
      " 0.4985135  0.49764377 0.49677505 0.49590737 0.49504073 0.49417515\n",
      " 0.49331067 0.49244729 0.49158504 0.49072394 0.489864   0.48900524\n",
      " 0.48814769 0.48729137 0.48643628 0.48558246 0.48472992 0.48387868\n",
      " 0.48302875 0.48218017 0.48133294 0.48048709 0.47964263 0.47879959\n",
      " 0.47795798 0.47711782 0.47627912 0.47544192 0.47460622 0.47377204\n",
      " 0.4729394  0.47210833 0.47127883 0.47045092 0.46962462 0.46879995\n",
      " 0.46797693 0.46715557 0.46633589 0.46551791 0.46470163 0.46388709\n",
      " 0.46307429 0.46226325 0.46145398 0.46064651 0.45984084 0.459037\n",
      " 0.45823499 0.45743484 0.45663655 0.45584015 0.45504563 0.45425303\n",
      " 0.45346235 0.45267361 0.45188682 0.45110199 0.45031914 0.44953828\n",
      " 0.44875943 0.44798258 0.44720777 0.44643499 0.44566426 0.4448956\n",
      " 0.44412901 0.44336451 0.4426021  0.4418418  0.44108362 0.44032757\n",
      " 0.43957365 0.43882188 0.43807228 0.43732484 0.43657957 0.4358365\n",
      " 0.43509562 0.43435694 0.43362047 0.43288623 0.43215422 0.43142444\n",
      " 0.43069691 0.42997163 0.42924861 0.42852786 0.42780938 0.42709318\n",
      " 0.42637927 0.42566765 0.42495834 0.42425132 0.42354662 0.42284424\n",
      " 0.42214418 0.42144644 0.42075104 0.42005798 0.41936725 0.41867888\n",
      " 0.41799285 0.41730918 0.41662786 0.41594891 0.41527233 0.41459811\n",
      " 0.41392627 0.4132568  0.4125897  0.41192499 0.41126267 0.41060272\n",
      " 0.40994517 0.40929    0.40863723 0.40798685 0.40733886 0.40669327\n",
      " 0.40605007 0.40540928 0.40477088 0.40413488 0.40350129 0.40287009\n",
      " 0.40224129 0.4016149  0.40099091 0.40036931 0.39975012 0.39913333\n",
      " 0.39851893 0.39790694 0.39729734 0.39669015 0.39608534 0.39548293\n",
      " 0.39488292 0.3942853  0.39369006 0.39309722 0.39250676 0.39191869\n",
      " 0.391333   0.39074969 0.39016876 0.3895902  0.38901402 0.38844021\n",
      " 0.38786876 0.38729969 0.38673297 0.38616861 0.38560661 0.38504696\n",
      " 0.38448966 0.38393471 0.38338209 0.38283182 0.38228388 0.38173828\n",
      " 0.381195   0.38065404 0.3801154  0.37957908 0.37904507 0.37851337\n",
      " 0.37798396 0.37745686 0.37693205 0.37640953 0.37588929 0.37537133\n",
      " 0.37485564 0.37434222 0.37383107 0.37332218 0.37281554 0.37231115\n",
      " 0.37180901 0.3713091  0.37081143 0.37031598 0.36982276 0.36933176\n",
      " 0.36884296 0.36835637 0.36787198 0.36738979 0.36690978 0.36643196\n",
      " 0.36595632 0.36548284 0.36501153 0.36454238 0.36407538 0.36361053\n",
      " 0.36314782 0.36268724 0.3622288  0.36177247 0.36131826 0.36086616\n",
      " 0.36041616 0.35996826 0.35952245 0.35907873 0.35863708 0.3581975\n",
      " 0.35775999 0.35732453 0.35689113 0.35645977 0.35603045 0.35560315\n",
      " 0.35517789 0.35475464 0.3543334  0.35391417 0.35349694 0.35308169\n",
      " 0.35266843 0.35225715 0.35184783 0.35144048 0.35103509 0.35063165\n",
      " 0.35023015 0.34983058 0.34943295 0.34903723 0.34864343 0.34825154\n",
      " 0.34786155 0.34747346 0.34708725 0.34670292 0.34632046 0.34593987\n",
      " 0.34556114 0.34518426 0.34480923 0.34443603 0.34406467 0.34369513\n",
      " 0.3433274  0.34296149 0.34259737 0.34223506 0.34187453 0.34151578\n",
      " 0.34115881 0.3408036  0.34045016 0.34009847 0.33974852 0.33940032\n",
      " 0.33905384 0.33870909 0.33836606 0.33802474 0.33768513 0.33734721\n",
      " 0.33701098 0.33667643 0.33634357 0.33601237 0.33568283 0.33535494\n",
      " 0.33502871 0.33470412 0.33438116 0.33405982 0.33374011 0.33342201\n",
      " 0.33310552 0.33279063 0.33247733 0.33216562 0.33185548 0.33154692\n",
      " 0.33123992 0.33093448 0.3306306  0.33032826 0.33002745 0.32972818\n",
      " 0.32943043 0.3291342  0.32883948 0.32854627 0.32825455 0.32796433\n",
      " 0.32767559 0.32738832 0.32710253 0.3268182  0.32653533 0.32625391\n",
      " 0.32597393 0.3256954  0.32541829 0.32514261 0.32486835 0.3245955\n",
      " 0.32432405 0.32405401 0.32378536 0.32351809 0.3232522  0.32298769\n",
      " 0.32272454 0.32246275 0.32220232 0.32194324 0.3216855  0.32142909\n",
      " 0.32117401 0.32092026 0.32066782 0.32041669 0.32016687 0.31991834\n",
      " 0.31967111 0.31942516 0.31918049 0.3189371  0.31869497 0.3184541\n",
      " 0.31821449 0.31797613 0.31773902 0.31750314 0.31726849 0.31703507\n",
      " 0.31680286 0.31657188 0.3163421  0.31611352 0.31588613 0.31565994\n",
      " 0.31543494 0.31521111 0.31498846 0.31476697 0.31454664 0.31432748\n",
      " 0.31410946 0.31389258 0.31367685 0.31346225 0.31324878 0.31303643\n",
      " 0.3128252  0.31261507 0.31240606 0.31219815 0.31199133 0.3117856\n",
      " 0.31158095 0.31137739 0.31117489 0.31097347 0.31077311 0.3105738\n",
      " 0.31037555 0.31017835 0.30998218 0.30978706 0.30959296 0.3093999\n",
      " 0.30920785 0.30901682 0.3088268  0.30863778 0.30844977 0.30826275\n",
      " 0.30807672 0.30789168 0.30770762 0.30752454 0.30734242 0.30716127\n",
      " 0.30698109 0.30680186 0.30662358 0.30644624 0.30626985 0.3060944\n",
      " 0.30591987 0.30574628 0.3055736  0.30540185 0.30523101 0.30506107\n",
      " 0.30489204 0.30472391 0.30455668 0.30439033 0.30422487 0.30406029\n",
      " 0.30389659 0.30373376 0.30357179 0.30341069]\n"
     ]
    }
   ],
   "source": [
    "dot = np.dot(allrealgrads, allapproxgrads.T)\n",
    "dot= np.diag(dot)\n",
    "norm_realgrads = np.linalg.norm(allrealgrads, axis=1)\n",
    "norm_approxgrads = np.linalg.norm(allapproxgrads, axis=1)\n",
    "print(dot/(norm_realgrads*norm_approxgrads))"
   ]
  },
  {
   "cell_type": "code",
   "execution_count": 292,
   "id": "8776709c",
   "metadata": {},
   "outputs": [
    {
     "data": {
      "image/png": "[encoded data removed]",
      "text/plain": [
       "<Figure size 432x288 with 1 Axes>"
      ]
     },
     "metadata": {},
     "output_type": "display_data"
    }
   ],
   "source": [
    "plt.plot(costs, color=\"xkcd:brick red\", label=\"real gradients\")\n",
    "plt.plot(approxcosts, color=green, linestyle=\"dashed\", label=\"approx gradients\")\n",
    "plt.xlabel(\"Iteratons\")\n",
    "plt.ylabel(\"Expectation value/cost\")\n",
    "plt.legend()\n",
    "plt.savefig(\"images/toyCostComparison.svg\")\n",
    "plt.show()"
   ]
  },
  {
   "cell_type": "markdown",
   "id": "81e7d524",
   "metadata": {},
   "source": [
    "## QAOA"
   ]
  },
  {
   "cell_type": "code",
   "execution_count": 293,
   "id": "f93a0e2d",
   "metadata": {},
   "outputs": [],
   "source": [
    "from pennylane import qaoa\n",
    "from pennylane import numpy as np\n",
    "from matplotlib import pyplot as plt\n",
    "import networkx as nx"
   ]
  },
  {
   "cell_type": "code",
   "execution_count": 572,
   "id": "1a0e33a4",
   "metadata": {},
   "outputs": [
    {
     "data": {
      "image/png": "[encoded data removed]",
      "text/plain": [
       "<Figure size 576x396 with 1 Axes>"
      ]
     },
     "metadata": {},
     "output_type": "display_data"
    }
   ],
   "source": [
    "edges = [(0, 1), (1, 2), (2, 0)]\n",
    "graph = nx.Graph(edges)\n",
    "\n",
    "nx.draw(graph, with_labels=True)\n",
    "plt.show()"
   ]
  },
  {
   "cell_type": "code",
   "execution_count": 597,
   "id": "b8fb1518",
   "metadata": {},
   "outputs": [
    {
     "name": "stdout",
     "output_type": "stream",
     "text": [
      "Cost Hamiltonian   (0.5) [Z0]\n",
      "+ (0.5) [Z1]\n",
      "+ (0.5) [Z2]\n",
      "+ (0.75) [Z0 Z1]\n",
      "+ (0.75) [Z0 Z2]\n",
      "+ (0.75) [Z1 Z2]\n",
      "Mixer Hamiltonian   (1) [X0]\n",
      "+ (1) [X1]\n",
      "+ (1) [X2]\n"
     ]
    }
   ],
   "source": [
    "cost_h, mixer_h = qaoa.min_vertex_cover(graph, constrained=False)\n",
    "\n",
    "print(\"Cost Hamiltonian\", cost_h)\n",
    "print(\"Mixer Hamiltonian\", mixer_h)"
   ]
  },
  {
   "cell_type": "code",
   "execution_count": 600,
   "id": "4c726c52",
   "metadata": {},
   "outputs": [],
   "source": [
    "def parameter_shift_term_cost_ham(circuit, params, idx):\n",
    "  new_params = np.copy(params)\n",
    "  new_params[idx] += np.pi/10\n",
    "  new_params = new_params.reshape((-1,2))\n",
    "  forward_exp = circuit(new_params)\n",
    "  new_params = np.ndarray.flatten(new_params)\n",
    "  new_params[idx] -= np.pi/5\n",
    "  new_params = new_params.reshape((-1,2))\n",
    "  backward_exp = circuit(new_params)\n",
    "  \n",
    "  grad = (2.5)*(forward_exp - backward_exp)\n",
    "  return grad"
   ]
  },
  {
   "cell_type": "code",
   "execution_count": 601,
   "id": "796a0e15",
   "metadata": {},
   "outputs": [],
   "source": [
    "def parameter_shift_term_mixer_ham(circuit, params, idx):\n",
    "  new_params = np.copy(params)\n",
    "  new_params[idx] += np.pi/2\n",
    "  new_params = new_params.reshape((-1,2))\n",
    "  forward_exp = circuit(new_params)\n",
    "  new_params = np.ndarray.flatten(new_params)\n",
    "  new_params[idx] -= np.pi\n",
    "  new_params = new_params.reshape((-1,2))\n",
    "  \n",
    "  backward_exp = circuit(new_params)\n",
    "  \n",
    "  grad = (0.5)*(forward_exp - backward_exp)\n",
    "  return grad"
   ]
  },
  {
   "cell_type": "code",
   "execution_count": 602,
   "id": "e558eb3d",
   "metadata": {},
   "outputs": [],
   "source": [
    "def qaoa_layer(gamma, alpha):\n",
    "    qaoa.cost_layer(gamma, cost_h)\n",
    "    qaoa.mixer_layer(alpha, mixer_h)"
   ]
  },
  {
   "cell_type": "code",
   "execution_count": 603,
   "id": "68c20e46",
   "metadata": {},
   "outputs": [],
   "source": [
    "def trainPauliWordCirqQAOA(circuit, params, gradfuns, lr=0.1, numiters = 1000):\n",
    "  costs = []\n",
    "  lrs = []\n",
    "  allapproxgrads = []\n",
    "  allrealgrads = []\n",
    "  grad_function = qml.grad(circuit)\n",
    "  for i in range(numiters):\n",
    "    prev_cost = circuit(params)\n",
    "    if i%10 == 0:\n",
    "      print(f\"Iter {i} - Expval of circuit: {circuit(params)}\")\n",
    "      \n",
    "    # approx grad calculation\n",
    "    params = np.ndarray.flatten(params)\n",
    "    approxgrads = np.array([g(circuit, params, i) for i, g in enumerate(gradfuns)])\n",
    "    # real grad calculation\n",
    "    params = params.reshape((-1,2))\n",
    "    realgrad = grad_function(params)\n",
    "    # update params\n",
    "    params = update_params(np.ndarray.flatten(params), approxgrads, lr)\n",
    "    params = params.reshape((-1,2))\n",
    "    \n",
    "    \n",
    "    \n",
    "    ### collect data\n",
    "    costs.append(prev_cost)\n",
    "    lrs.append(lr)\n",
    "    allapproxgrads.append(approxgrads)\n",
    "    allrealgrads.append(realgrad)\n",
    "\n",
    "  return params, costs, lrs, allapproxgrads, allrealgrads"
   ]
  },
  {
   "cell_type": "code",
   "execution_count": 604,
   "id": "c59a00d5",
   "metadata": {},
   "outputs": [],
   "source": [
    "wires = range(3)\n",
    "depth = 2\n",
    "\n",
    "def circuit(params, **kwargs):\n",
    "    for w in wires:\n",
    "        qml.Hadamard(wires=w)\n",
    "    qml.layer(qaoa_layer, depth, params[0], params[1])"
   ]
  },
  {
   "cell_type": "code",
   "execution_count": 605,
   "id": "8d8b4f76",
   "metadata": {},
   "outputs": [],
   "source": [
    "dev = qml.device(\"default.qubit\", wires=wires)\n",
    "\n",
    "@qml.qnode(dev)\n",
    "def cost_function(params):\n",
    "    circuit(params)\n",
    "    return qml.expval(cost_h)"
   ]
  },
  {
   "cell_type": "code",
   "execution_count": 606,
   "id": "552f0d4f",
   "metadata": {},
   "outputs": [
    {
     "name": "stdout",
     "output_type": "stream",
     "text": [
      "[[0.5 0.5]\n",
      " [0.1 0.3]]\n",
      "Iter 0 - Expval of circuit: 0.5523014876561518\n",
      "Iter 10 - Expval of circuit: -0.32337274775662644\n",
      "Iter 20 - Expval of circuit: -0.4645560826779407\n",
      "Iter 30 - Expval of circuit: -0.5551074056315244\n",
      "Iter 40 - Expval of circuit: -0.6153824212624467\n",
      "Iter 50 - Expval of circuit: -0.6583409947991914\n",
      "Iter 60 - Expval of circuit: -0.6909357980147917\n",
      "Iter 70 - Expval of circuit: -0.7166720070738338\n",
      "Iter 80 - Expval of circuit: -0.7375559954768616\n",
      "Iter 90 - Expval of circuit: -0.7548541478987543\n"
     ]
    }
   ],
   "source": [
    "numiters = 100\n",
    "params = np.array([[0.5, 0.5], [0.1, 0.3]], requires_grad=True)\n",
    "print(params)\n",
    "new_params, approxcosts, lrs, allapproxgrads, allrealgrads = trainPauliWordCirqQAOA(cost_function, params, [parameter_shift_term_cost_ham, parameter_shift_term_mixer_ham, parameter_shift_term_cost_ham, parameter_shift_term_mixer_ham],lr=0.05, numiters=numiters)\n",
    "\n"
   ]
  },
  {
   "cell_type": "code",
   "execution_count": 607,
   "id": "7478b4d6",
   "metadata": {},
   "outputs": [
    {
     "data": {
      "text/plain": [
       "tensor([[ 0.4725273 ,  0.12546753],\n",
       "        [-0.56793622,  0.3       ]], requires_grad=True)"
      ]
     },
     "execution_count": 607,
     "metadata": {},
     "output_type": "execute_result"
    }
   ],
   "source": [
    "new_params"
   ]
  },
  {
   "cell_type": "code",
   "execution_count": 608,
   "id": "3c614a94",
   "metadata": {},
   "outputs": [],
   "source": [
    "optimizer = qml.GradientDescentOptimizer()\n",
    "steps = 70\n",
    "params = np.array([[0.5, 0.5], [0.1, 0.3]], requires_grad=True)"
   ]
  },
  {
   "cell_type": "code",
   "execution_count": 615,
   "id": "473899cf",
   "metadata": {},
   "outputs": [
    {
     "name": "stdout",
     "output_type": "stream",
     "text": [
      "-1.053885535037776\n",
      "-1.058170963059159\n",
      "-1.0623712311668134\n",
      "-1.066488053889008\n",
      "-1.0705223157451311\n",
      "-1.0744742326515173\n",
      "-1.0783435030928707\n",
      "-1.08212944804186\n",
      "-1.0858311385412778\n",
      "-1.089447509926439\n",
      "-1.0929774618462649\n",
      "-1.0964199435177673\n",
      "-1.0997740239929417\n",
      "-1.1030389475981504\n",
      "-1.1062141750921985\n",
      "-1.109299411450403\n",
      "-1.112294621493036\n",
      "-1.1152000348181905\n",
      "-1.1180161416603163\n",
      "-1.120743681372168\n",
      "-1.1233836252233487\n",
      "-1.1259371551319177\n",
      "-1.1284056398101838\n",
      "-1.1307906096275135\n",
      "-1.1330937312883\n",
      "-1.1353167832076299\n",
      "-1.1374616322543412\n",
      "-1.1395302123318858\n",
      "-1.141524505089683\n",
      "-1.1434465229061646\n",
      "-1.1452982941618228\n",
      "-1.1470818507259612\n",
      "-1.148799217512933\n",
      "-1.150452403919207\n",
      "-1.1520433969282808\n",
      "-1.1535741556620565\n",
      "-1.1550466071612564\n",
      "-1.1564626431901996\n",
      "-1.1578241178796937\n",
      "-1.1591328460434638\n",
      "-1.1603906020264791\n",
      "-1.1615991189661308\n",
      "-1.1627600883685558\n",
      "-1.1638751599217452\n",
      "-1.1649459414840488\n",
      "-1.1659739992012097\n",
      "-1.1669608577170907\n",
      "-1.1679080004530684\n",
      "-1.1688168699387411\n",
      "-1.1696888681824773\n",
      "-1.170525357074725\n",
      "-1.171327658820108\n",
      "-1.1720970563963913\n",
      "-1.1728347940397177\n",
      "-1.1735420777562116\n",
      "-1.174220075860296\n",
      "-1.1748699195400225\n",
      "-1.1754927034495024\n",
      "-1.1760894863281044\n",
      "-1.17666129164576\n",
      "-1.1772091082732243\n",
      "-1.1777338911758157\n",
      "-1.1782365621287707\n",
      "-1.178718010452101\n",
      "-1.1791790937625881\n",
      "-1.1796206387404227\n",
      "-1.1800434419078694\n",
      "-1.1804482704173376\n",
      "-1.180835862846219\n",
      "-1.181206929995889\n",
      "Optimal Parameters\n",
      "[[ 0.37068004  0.94383408]\n",
      " [-0.38841982 -0.18704052]]\n"
     ]
    }
   ],
   "source": [
    "for i in range(steps):\n",
    "    print(cost_function(params))\n",
    "    params = optimizer.step(cost_function, params)\n",
    "\n",
    "print(\"Optimal Parameters\")\n",
    "print(params)"
   ]
  },
  {
   "cell_type": "code",
   "execution_count": 616,
   "id": "a58f3e01",
   "metadata": {},
   "outputs": [],
   "source": [
    "@qml.qnode(dev)\n",
    "def probability_circuit(gamma, alpha):\n",
    "    circuit([gamma, alpha])\n",
    "    return qml.probs(wires=wires)\n",
    "\n",
    "\n"
   ]
  },
  {
   "cell_type": "code",
   "execution_count": 625,
   "id": "841d9386",
   "metadata": {},
   "outputs": [
    {
     "data": {
      "image/png": "[encoded data removed]",
      "text/plain": [
       "<Figure size 1008x288 with 2 Axes>"
      ]
     },
     "metadata": {},
     "output_type": "display_data"
    }
   ],
   "source": [
    "fig, axs = plt.subplots(1, 2, figsize=(14, 4))\n",
    "plt.style.use(\"seaborn\")\n",
    "probs = probability_circuit(new_params[0], new_params[1])\n",
    "axs[0].bar(range(2 ** len(wires)), probs)\n",
    "probs = probability_circuit(params[0], params[1])\n",
    "axs[1].bar(range(2 ** len(wires)), probs)\n",
    "plt.savefig(\"images/raqaoahist.svg\")\n",
    "plt.show()\n"
   ]
  },
  {
   "cell_type": "code",
   "execution_count": 623,
   "id": "30605b06",
   "metadata": {},
   "outputs": [
    {
     "data": {
      "image/png": "[encoded data removed]",
      "text/plain": [
       "<Figure size 576x396 with 1 Axes>"
      ]
     },
     "metadata": {},
     "output_type": "display_data"
    }
   ],
   "source": [
    "probs = probability_circuit(params[0], params[1])\n",
    "plt.style.use(\"seaborn\")\n",
    "plt.bar(range(2 ** len(wires)), probs)\n",
    "plt.savefig(\"images/realqaoahist.svg\")\n",
    "plt.show()"
   ]
  },
  {
   "cell_type": "code",
   "execution_count": 613,
   "id": "bdd348e0",
   "metadata": {},
   "outputs": [
    {
     "data": {
      "text/plain": [
       "(<Figure size 576x288 with 1 Axes>, <Axes:>)"
      ]
     },
     "execution_count": 613,
     "metadata": {},
     "output_type": "execute_result"
    },
    {
     "data": {
      "image/png": "[encoded data removed]",
      "text/plain": [
       "<Figure size 576x288 with 1 Axes>"
      ]
     },
     "metadata": {},
     "output_type": "display_data"
    }
   ],
   "source": [
    "qml.draw_mpl(cost_function, decimals=2)(params)"
   ]
  },
  {
   "cell_type": "code",
   "execution_count": 588,
   "id": "713b4067",
   "metadata": {},
   "outputs": [
    {
     "data": {
      "text/plain": [
       "'0b110'"
      ]
     },
     "execution_count": 588,
     "metadata": {},
     "output_type": "execute_result"
    }
   ],
   "source": [
    "bin(6)"
   ]
  },
  {
   "cell_type": "code",
   "execution_count": 589,
   "id": "050eb7c2",
   "metadata": {},
   "outputs": [
    {
     "name": "stdout",
     "output_type": "stream",
     "text": [
      "[-2.5 -2.5 -1.5 -1.5 -1.  -1.  -0.5 -0.5 -0.5  0.   0.   1.   1.   1.\n",
      "  3.5  5. ]\n"
     ]
    }
   ],
   "source": [
    "x = np.matrix([[0,1],[1,0]])\n",
    "y = np.matrix([[0,-1j],[1j,0]])\n",
    "z = np.matrix([[1,0],[0,-1]])\n",
    "i = np.eye(2)\n",
    "mat1 = np.kron(np.kron(np.kron(i, i),z),i)\n",
    "mat2 = np.kron(np.kron(np.kron(z, i),i),i)\n",
    "mat3 = np.kron(np.kron(np.kron(i, z),i),i)\n",
    "mat4 = np.kron(np.kron(np.kron(i, i),z),i)\n",
    "mat5 = np.kron(np.kron(np.kron(z, z),i),i)\n",
    "mat6 = np.kron(np.kron(np.kron(z, i),z),i)\n",
    "mat7 = np.kron(np.kron(np.kron(i, z),z),i)\n",
    "mat8 = np.kron(np.kron(np.kron(i, i),z),z)\n",
    "mat9 = -0.25*mat1 + 0.5*mat2 + 0.5*mat3 + 1.25*mat4 + 0.75*(mat5 + mat6 + mat7 + mat8)\n",
    "eigs = np.linalg.eig(mat9)\n",
    "print(np.sort(np.real(eigs[0])))"
   ]
  },
  {
   "cell_type": "code",
   "execution_count": 590,
   "id": "5d62e8ca",
   "metadata": {},
   "outputs": [
    {
     "name": "stdout",
     "output_type": "stream",
     "text": [
      "Cost Hamiltonian   (0.5) [Z0]\n",
      "+ (0.5) [Z1]\n",
      "+ (0.5) [Z2]\n",
      "+ (0.75) [Z0 Z1]\n",
      "+ (0.75) [Z0 Z2]\n",
      "+ (0.75) [Z1 Z2]\n",
      "Mixer Hamiltonian   (1) [X0]\n",
      "+ (1) [X1]\n",
      "+ (1) [X2]\n"
     ]
    }
   ],
   "source": [
    "cost_h, mixer_h = qaoa.min_vertex_cover(graph, constrained=False)\n",
    "\n",
    "print(\"Cost Hamiltonian\", cost_h)\n",
    "print(\"Mixer Hamiltonian\", mixer_h)"
   ]
  },
  {
   "cell_type": "code",
   "execution_count": 591,
   "id": "4b7d0df2",
   "metadata": {},
   "outputs": [],
   "source": [
    "ar = np.array(allrealgrads).reshape(100,4)\n",
    "aa = np.array(allapproxgrads).reshape(100,4)"
   ]
  },
  {
   "cell_type": "code",
   "execution_count": 592,
   "id": "35d13714",
   "metadata": {},
   "outputs": [
    {
     "data": {
      "text/plain": [
       "(100, 4)"
      ]
     },
     "execution_count": 592,
     "metadata": {},
     "output_type": "execute_result"
    }
   ],
   "source": [
    "ar.shape"
   ]
  },
  {
   "cell_type": "code",
   "execution_count": 629,
   "id": "8f2af3cf",
   "metadata": {},
   "outputs": [
    {
     "data": {
      "image/png": "[encoded data removed]",
      "text/plain": [
       "<Figure size 1008x216 with 4 Axes>"
      ]
     },
     "metadata": {},
     "output_type": "display_data"
    }
   ],
   "source": [
    "fig, axs = plt.subplots(1, 4, figsize=(14, 3))\n",
    "alltitles = [\"$\\mu_{1}$\", \"$\\mu_{2}$\", \"$\\mu_{3}$\", \"$\\mu_{4}$\"]\n",
    "for i, (ax) in enumerate(np.ndarray.flatten(axs)):\n",
    "    # Plot cost function evaluations\n",
    "    ax.plot(np.arange(numiters), ar[:,i], label=\"real gradient\", color=\"xkcd:brick red\")\n",
    "    ax.plot(np.arange(numiters), aa[:,i], label=\"approx gradient\", color=\"#209494\", linestyle=\"dashed\")\n",
    "    plt.legend\n",
    "    # Axis and plot labels\n",
    "    ax.set_title(f\"{alltitles[i]}\")\n",
    "\n",
    "_ = axs[1].set_xlabel(\"$Iterations$\")\n",
    "_ = axs[0].set_ylabel(\"$Gradient$ $Values$\")\n",
    "handles, labels = axs[0].get_legend_handles_labels()\n",
    "fig.legend(handles, labels, loc='upper right')\n",
    "plt.savefig(\"images/qaoagrads.svg\")\n",
    "plt.show()"
   ]
  },
  {
   "cell_type": "code",
   "execution_count": 599,
   "id": "1b6d944e",
   "metadata": {},
   "outputs": [
    {
     "name": "stdout",
     "output_type": "stream",
     "text": [
      "[-1.25 -1.25 -1.25 -0.25 -0.25 -0.25  0.75  3.75]\n"
     ]
    }
   ],
   "source": [
    "x = np.matrix([[0,1],[1,0]])\n",
    "y = np.matrix([[0,-1j],[1j,0]])\n",
    "z = np.matrix([[1,0],[0,-1]])\n",
    "i = np.eye(2)\n",
    "mat2 = np.kron(np.kron(z, i),i)\n",
    "mat3 = np.kron(np.kron(i, z),i)\n",
    "mat4 = np.kron(np.kron(i, i),z)\n",
    "mat5 = np.kron(np.kron(z, z),i)\n",
    "mat6 = np.kron(np.kron(z, i),z)\n",
    "mat7 = np.kron(np.kron(i, z),z)\n",
    "mat9 = 0.5*mat2 + 0.5*mat3 + 0.5*mat4 + 0.75*(mat5 + mat6 + mat7)\n",
    "eigs = np.linalg.eig(mat9)\n",
    "print(np.sort(np.real(eigs[0])))"
   ]
  },
  {
   "cell_type": "code",
   "execution_count": null,
   "id": "fc6240bd",
   "metadata": {},
   "outputs": [],
   "source": []
  },
  {
   "cell_type": "code",
   "execution_count": null,
   "id": "9718a81c",
   "metadata": {},
   "outputs": [],
   "source": []
  }
 ],
 "metadata": {
  "kernelspec": {
   "display_name": "Python [conda env:practical_rl]",
   "language": "python",
   "name": "conda-env-practical_rl-py"
  },
  "language_info": {
   "codemirror_mode": {
    "name": "ipython",
    "version": 3
   },
   "file_extension": ".py",
   "mimetype": "text/x-python",
   "name": "python",
   "nbconvert_exporter": "python",
   "pygments_lexer": "ipython3",
   "version": "3.9.7"
  }
 },
 "nbformat": 4,
 "nbformat_minor": 5
}

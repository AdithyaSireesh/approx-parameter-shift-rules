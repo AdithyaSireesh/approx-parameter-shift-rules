{
 "cells": [
  {
   "cell_type": "code",
   "execution_count": 1,
   "id": "172bf06a",
   "metadata": {},
   "outputs": [],
   "source": [
    "import pennylane as qml\n",
    "from pennylane import numpy as np\n",
    "from scipy.stats import unitary_group\n",
    "import numpy.random as rnd\n",
    "\n",
    "import matplotlib.pyplot as plt\n",
    "import seaborn as sns\n",
    "sns.set()"
   ]
  },
  {
   "cell_type": "code",
   "execution_count": 2,
   "id": "967c019e",
   "metadata": {},
   "outputs": [],
   "source": [
    "# Generate random state\n",
    "def random_state(num_qubits, seed):\n",
    "  rs = unitary_group.rvs(dim=2**num_qubits, random_state=rnd.default_rng(seed))\n",
    "  return rs[0]\n",
    "\n",
    "def random_observable(num_qubits, seed):\n",
    "  real, img = rnd.random((2, 2**num_qubits, 2**num_qubits))\n",
    "  \n",
    "  real = real+real.T\n",
    "  img = img - img.T\n",
    "  \n",
    "  H = real + 1j*img\n",
    "  return H"
   ]
  },
  {
   "cell_type": "code",
   "execution_count": 3,
   "id": "06fe370d",
   "metadata": {},
   "outputs": [],
   "source": [
    "from jax.config import config\n",
    "\n",
    "config.update(\"jax_enable_x64\", True)\n",
    "import jax\n",
    "from jax import numpy as np\n",
    "import pennylane as qml\n",
    "\n",
    "def make_cost(N, seed):\n",
    "  dev = qml.device(\"default.qubit\", wires=N)\n",
    "  print(dev.wires)\n",
    "\n",
    "  @jax.jit\n",
    "  @qml.qnode(dev, interface=\"jax\")\n",
    "  def cost(x):\n",
    "    qml.QubitStateVector(random_state(N, seed), wires=dev.wires)\n",
    "    for wire in dev.wires:\n",
    "      qml.RZ(x, wires=wire, id=\"x\")\n",
    "    return qml.expval(qml.Hermitian(random_observable(N, seed), wires=dev.wires))\n",
    "  return cost"
   ]
  },
  {
   "cell_type": "code",
   "execution_count": 4,
   "id": "0c87ff6a",
   "metadata": {},
   "outputs": [
    {
     "name": "stderr",
     "output_type": "stream",
     "text": [
      "WARNING:absl:No GPU/TPU found, falling back to CPU. (Set TF_CPP_MIN_LOG_LEVEL=0 and rerun for more info.)\n"
     ]
    },
    {
     "name": "stdout",
     "output_type": "stream",
     "text": [
      "<Wires = [0]>\n",
      "<Wires = [0, 1]>\n",
      "<Wires = [0, 1, 2, 3]>\n",
      "<Wires = [0, 1, 2, 3, 4, 5, 6, 7]>\n"
     ]
    }
   ],
   "source": [
    "# gatehr the cost functions that we wish to analyse\n",
    "Ns = [1,2,4,8]\n",
    "seed = 1000\n",
    "\n",
    "all_costs = []\n",
    "for n in Ns:\n",
    "  all_costs.append(make_cost(n, seed))"
   ]
  },
  {
   "cell_type": "code",
   "execution_count": 5,
   "id": "b33d0a71",
   "metadata": {},
   "outputs": [],
   "source": [
    "num_points = 60\n",
    "X_range = np.linspace(-np.pi, np.pi, num_points)\n",
    "exp_vals = []\n",
    "for cost in all_costs:\n",
    "  exp_vals.append([cost(x) for x in X_range])"
   ]
  },
  {
   "cell_type": "code",
   "execution_count": 6,
   "id": "de5f5eb7",
   "metadata": {},
   "outputs": [
    {
     "data": {
      "image/png": "[encoded data removed]",
      "text/plain": [
       "<Figure size 1008x144 with 4 Axes>"
      ]
     },
     "metadata": {},
     "output_type": "display_data"
    }
   ],
   "source": [
    "fig, axs = plt.subplots(1, len(Ns), figsize=(14, 2))\n",
    "\n",
    "for ax, N, E in zip(axs, Ns, exp_vals):\n",
    "    # Plot cost function evaluations\n",
    "    ax.plot(X_range, E, color=\"plum\")\n",
    "    # Axis and plot labels\n",
    "    ax.set_title(f\"{N} qubits\")\n",
    "    ax.set_xlabel(\"$\\mu$\")\n",
    "\n",
    "_ = axs[0].set_ylabel(\"$E$\")\n",
    "plt.savefig(\"images/fourier.svg\")\n",
    "plt.show()"
   ]
  },
  {
   "cell_type": "code",
   "execution_count": 7,
   "id": "7230c072",
   "metadata": {},
   "outputs": [
    {
     "data": {
      "text/plain": [
       "[DeviceArray([ 1.68051184-1.53660210e-17j, -0.39101536+4.31215966e-17j],            dtype=complex128),\n",
       " DeviceArray([[ 0.74907827+0.j        , -0.62577706-0.21745072j],\n",
       "              [ 0.62577706-0.21745072j,  0.74907827+0.j        ]],            dtype=complex128)]"
      ]
     },
     "execution_count": 7,
     "metadata": {},
     "output_type": "execute_result"
    }
   ],
   "source": [
    "np.linalg.eig(random_observable(1, 300))"
   ]
  },
  {
   "cell_type": "markdown",
   "id": "41712a39",
   "metadata": {},
   "source": [
    "## Research Question 1\n",
    "### How good is learning when we use the 2 term param shift rule?"
   ]
  },
  {
   "cell_type": "markdown",
   "id": "0735f0b7",
   "metadata": {},
   "source": [
    "**Custom gate**\n",
    "[How to create custom gates](https://pennylane.ai/blog/2021/05/how-to-add-custom-gates-and-templates-to-pennylane/)"
   ]
  },
  {
   "cell_type": "code",
   "execution_count": 8,
   "id": "c6b1dc88",
   "metadata": {},
   "outputs": [],
   "source": [
    "from pennylane.operation import Operation\n",
    "\n",
    "class IncognitoGate(Operation):\n",
    "    num_params = 1\n",
    "    num_wires = 2\n",
    "    par_domain = \"R\"\n",
    "    \n",
    "    @staticmethod\n",
    "    def decomposition(theta, wires):\n",
    "        return [qml.PauliRot(theta, 'XX', wires=wires)]"
   ]
  },
  {
   "cell_type": "code",
   "execution_count": 9,
   "id": "ebf18f8f",
   "metadata": {},
   "outputs": [
    {
     "ename": "AttributeError",
     "evalue": "module pennylane has no attribute dev",
     "output_type": "error",
     "traceback": [
      "\u001b[0;31m---------------------------------------------------------------------------\u001b[0m",
      "\u001b[0;31mAttributeError\u001b[0m                            Traceback (most recent call last)",
      "\u001b[0;32m/var/folders/92/jjpjrbf91clg0kmcnqglv1ym0000gn/T/ipykernel_7548/2061254262.py\u001b[0m in \u001b[0;36m<module>\u001b[0;34m\u001b[0m\n\u001b[0;32m----> 1\u001b[0;31m \u001b[0mdev2\u001b[0m \u001b[0;34m=\u001b[0m \u001b[0mqml\u001b[0m\u001b[0;34m.\u001b[0m\u001b[0mdev\u001b[0m\u001b[0;34m\u001b[0m\u001b[0;34m\u001b[0m\u001b[0m\n\u001b[0m",
      "\u001b[0;32m~/miniconda3/envs/practical_rl/lib/python3.9/site-packages/pennylane/__init__.py\u001b[0m in \u001b[0;36m__getattr__\u001b[0;34m(name)\u001b[0m\n\u001b[1;32m    344\u001b[0m         \u001b[0;32mreturn\u001b[0m \u001b[0m_qchem\u001b[0m\u001b[0;34m\u001b[0m\u001b[0;34m\u001b[0m\u001b[0m\n\u001b[1;32m    345\u001b[0m \u001b[0;34m\u001b[0m\u001b[0m\n\u001b[0;32m--> 346\u001b[0;31m     \u001b[0;32mraise\u001b[0m \u001b[0mAttributeError\u001b[0m\u001b[0;34m(\u001b[0m\u001b[0;34mf\"module {__name__} has no attribute {name}\"\u001b[0m\u001b[0;34m)\u001b[0m\u001b[0;34m\u001b[0m\u001b[0;34m\u001b[0m\u001b[0m\n\u001b[0m\u001b[1;32m    347\u001b[0m \u001b[0;34m\u001b[0m\u001b[0m\n\u001b[1;32m    348\u001b[0m \u001b[0;34m\u001b[0m\u001b[0m\n",
      "\u001b[0;31mAttributeError\u001b[0m: module pennylane has no attribute dev"
     ]
    }
   ],
   "source": [
    "dev2 = qml.dev"
   ]
  },
  {
   "cell_type": "code",
   "execution_count": null,
   "id": "c33c900d",
   "metadata": {},
   "outputs": [],
   "source": []
  },
  {
   "cell_type": "code",
   "execution_count": null,
   "id": "87d34ac5",
   "metadata": {},
   "outputs": [],
   "source": []
  }
 ],
 "metadata": {
  "kernelspec": {
   "display_name": "Python [conda env:practical_rl]",
   "language": "python",
   "name": "conda-env-practical_rl-py"
  },
  "language_info": {
   "codemirror_mode": {
    "name": "ipython",
    "version": 3
   },
   "file_extension": ".py",
   "mimetype": "text/x-python",
   "name": "python",
   "nbconvert_exporter": "python",
   "pygments_lexer": "ipython3",
   "version": "3.9.7"
  }
 },
 "nbformat": 4,
 "nbformat_minor": 5
}

{
 "cells": [
  {
   "cell_type": "code",
   "execution_count": 1,
   "id": "e1d37557",
   "metadata": {},
   "outputs": [],
   "source": [
    "from scipy.stats import unitary_group\n",
    "import numpy.random as rnd"
   ]
  },
  {
   "cell_type": "code",
   "execution_count": 2,
   "id": "3a2c22fc",
   "metadata": {},
   "outputs": [],
   "source": [
    "def random_state(N, seed):\n",
    "    \"\"\"Create a random state on N qubits.\"\"\"\n",
    "    states = unitary_group.rvs(2 ** N, random_state=rnd.default_rng(seed))\n",
    "    return states[0]\n",
    "\n",
    "\n",
    "def random_observable(N, seed):\n",
    "    \"\"\"Create a random observable on N qubits.\"\"\"\n",
    "    rnd.seed(seed)\n",
    "    # Generate real and imaginary part separately and (anti-)symmetrize them for Hermiticity\n",
    "    real_part, imag_part = rnd.random((2, 2 ** N, 2 ** N))\n",
    "    real_part += real_part.T\n",
    "    imag_part -= imag_part.T\n",
    "    return real_part + 1j * imag_part"
   ]
  },
  {
   "cell_type": "code",
   "execution_count": 3,
   "id": "a922b8e4",
   "metadata": {},
   "outputs": [
    {
     "data": {
      "text/plain": [
       "array([-0.07062714-0.48404647j,  0.18552833+0.02837205j,\n",
       "        0.18142108-0.07911353j,  0.07398692-0.36270572j,\n",
       "        0.276394  -0.0056422j , -0.34970129-0.46823536j,\n",
       "        0.12513347+0.07282229j, -0.13526774-0.30341945j])"
      ]
     },
     "execution_count": 3,
     "metadata": {},
     "output_type": "execute_result"
    }
   ],
   "source": [
    "random_state(3, 20)"
   ]
  },
  {
   "cell_type": "code",
   "execution_count": 3,
   "id": "553209a7",
   "metadata": {},
   "outputs": [],
   "source": [
    "from jax.config import config\n",
    "\n",
    "config.update(\"jax_enable_x64\", True)\n",
    "# import jax\n",
    "# from jax import numpy as np\n",
    "import pennylane as qml\n",
    "from pennylane import numpy as np\n",
    "\n",
    "def make_cost(N, seed):\n",
    "    \"\"\"Create a cost function on N qubits with N frequencies.\"\"\"\n",
    "    dev = qml.device(\"default.qubit\", wires=N)\n",
    "    randobs = random_observable(N, seed)\n",
    "\n",
    "    @jax.jit\n",
    "    @qml.qnode(dev, interface=\"jax\")\n",
    "    def cost(x):\n",
    "        \"\"\"Cost function on N qubits with N frequencies.\"\"\"\n",
    "        qml.QubitStateVector(random_state(N, seed), wires=dev.wires)\n",
    "        for w in dev.wires:\n",
    "            qml.RZ(x, wires=w, id=\"x\")\n",
    "#         qml.RZ(x, wires=0)\n",
    "        return qml.expval(qml.PauliX(0))\n",
    "\n",
    "    return cost"
   ]
  },
  {
   "cell_type": "code",
   "execution_count": 5,
   "id": "c21f3de7",
   "metadata": {},
   "outputs": [
    {
     "name": "stderr",
     "output_type": "stream",
     "text": [
      "WARNING:absl:No GPU/TPU found, falling back to CPU. (Set TF_CPP_MIN_LOG_LEVEL=0 and rerun for more info.)\n"
     ]
    }
   ],
   "source": [
    "import matplotlib.pyplot as plt\n",
    "\n",
    "# Set a plotting range on the x-axis\n",
    "xlim = (-np.pi, np.pi)\n",
    "X = np.linspace(*xlim, 60)\n",
    "# Colors\n",
    "green = \"#209494\"\n",
    "orange = \"#ED7D31\"\n",
    "red = \"xkcd:brick red\"\n",
    "blue = \"xkcd:cerulean\"\n",
    "pink = \"xkcd:bright pink\""
   ]
  },
  {
   "cell_type": "code",
   "execution_count": 6,
   "id": "971e235d",
   "metadata": {},
   "outputs": [],
   "source": [
    "# Qubit numbers\n",
    "Ns = [1, 2, 4, 5]\n",
    "# Fix a seed\n",
    "seed = 7658741\n",
    "\n",
    "cost_functions = []\n",
    "evaluated_cost = []\n",
    "for N in Ns:\n",
    "    # Generate the cost function for N qubits and evaluate it\n",
    "    cost = make_cost(N, seed)\n",
    "    evaluated_cost.append([cost(x) for x in X])\n",
    "    cost_functions.append(cost)\n",
    "    break"
   ]
  },
  {
   "cell_type": "code",
   "execution_count": 7,
   "id": "310297ef",
   "metadata": {},
   "outputs": [
    {
     "data": {
      "image/png": "[encoded data removed]",
      "text/plain": [
       "<Figure size 864x144 with 4 Axes>"
      ]
     },
     "metadata": {
      "needs_background": "light"
     },
     "output_type": "display_data"
    }
   ],
   "source": [
    "# Figure with multiple axes\n",
    "fig, axs = plt.subplots(1, len(Ns), figsize=(12, 2))\n",
    "\n",
    "for ax, N, E in zip(axs, Ns, evaluated_cost):\n",
    "    # Plot cost function evaluations\n",
    "    ax.plot(X, E, color=green)\n",
    "    # Axis and plot labels\n",
    "    ax.set_title(f\"{N} qubits\")\n",
    "    ax.set_xlabel(\"$x$\")\n",
    "\n",
    "_ = axs[0].set_ylabel(\"$E$\")\n",
    "plt.show()"
   ]
  },
  {
   "cell_type": "code",
   "execution_count": 8,
   "id": "e141dc84",
   "metadata": {},
   "outputs": [
    {
     "name": "stdout",
     "output_type": "stream",
     "text": [
      "For 1 qubits the spectrum is [-1.0, 0.0, 1.0].\n"
     ]
    }
   ],
   "source": [
    "from pennylane.fourier import qnode_spectrum\n",
    "\n",
    "spectra = []\n",
    "for N, cost_function in zip(Ns, cost_functions):\n",
    "    # Compute spectrum with respect to parameter x\n",
    "    spec = qnode_spectrum(cost_function.__wrapped__)(X[0])[\"x\"][()]\n",
    "    print(f\"For {N} qubits the spectrum is {spec}.\")\n",
    "    # Store spectrum\n",
    "    spectra.append([freq for freq in spec if freq>0.0])"
   ]
  },
  {
   "cell_type": "code",
   "execution_count": 9,
   "id": "9b3b0ac2",
   "metadata": {},
   "outputs": [
    {
     "data": {
      "image/png": "[encoded data removed]",
      "text/plain": [
       "<Figure size 864x324 with 8 Axes>"
      ]
     },
     "metadata": {},
     "output_type": "display_data"
    }
   ],
   "source": [
    "from pennylane.fourier.visualize import bar\n",
    "\n",
    "fig, axs = plt.subplots(2, len(Ns), figsize=(12, 4.5))\n",
    "for i, (cost_function, spec) in enumerate(zip(cost_functions, spectra)):\n",
    "    # Compute the Fourier coefficients\n",
    "    coeffs = qml.fourier.coefficients(cost_function, 1, len(spec)+2, lowpass_filter=True)\n",
    "    # Show the Fourier coefficients\n",
    "    bar(coeffs, 1, axs[:, i], show_freqs=True, colour_dict={\"real\": green, \"imag\": orange})\n",
    "    axs[0, i].set_title(f\"{Ns[i]} qubits\")\n",
    "    # Set x-axis labels\n",
    "    axs[1, i].text(Ns[i] + 2, axs[1, i].get_ylim()[0], f\"Frequency\", ha=\"center\", va=\"top\")\n",
    "    # Clean up y-axis labels\n",
    "    if i == 0:\n",
    "        _ = [axs[j, i].set_ylabel(lab) for j, lab in enumerate([\"$a_\\ell/2$\", \"$b_\\ell/2$\"])]\n",
    "    else:\n",
    "        _ = [axs[j, i].set_ylabel(\"\") for j in [0, 1]]\n",
    "plt.show()"
   ]
  },
  {
   "cell_type": "code",
   "execution_count": 10,
   "id": "a142a406",
   "metadata": {},
   "outputs": [
    {
     "data": {
      "image/png": "[encoded data removed]",
      "text/plain": [
       "<Figure size 864x324 with 8 Axes>"
      ]
     },
     "metadata": {},
     "output_type": "display_data"
    }
   ],
   "source": [
    "from pennylane.fourier.visualize import bar\n",
    "\n",
    "fig, axs = plt.subplots(2, len(Ns), figsize=(12, 4.5))\n",
    "for i, (cost_function, spec) in enumerate(zip(cost_functions, spectra)):\n",
    "    # Compute the Fourier coefficients\n",
    "    coeffs = qml.fourier.coefficients(cost_function, 1, len(spec)-1, lowpass_filter=True)\n",
    "    # Show the Fourier coefficients\n",
    "    bar(coeffs, 1, axs[:, i], show_freqs=True, colour_dict={\"real\": green, \"imag\": orange})\n",
    "    axs[0, i].set_title(f\"{Ns[i]} qubits\")\n",
    "    # Set x-axis labels\n",
    "    axs[1, i].text(Ns[i] + 2, axs[1, i].get_ylim()[0], f\"Frequency\", ha=\"center\", va=\"top\")\n",
    "    # Clean up y-axis labels\n",
    "    if i == 0:\n",
    "        _ = [axs[j, i].set_ylabel(lab) for j, lab in enumerate([\"$a_\\ell/2$\", \"$b_\\ell/2$\"])]\n",
    "    else:\n",
    "        _ = [axs[j, i].set_ylabel(\"\") for j in [0, 1]]\n",
    "plt.show()"
   ]
  },
  {
   "cell_type": "code",
   "execution_count": 11,
   "id": "bd1aa1fd",
   "metadata": {},
   "outputs": [],
   "source": [
    "sinc = lambda x: np.sinc(x / np.pi)\n",
    "\n",
    "def full_reconstruction_equ(fun, R):\n",
    "    \"\"\"Reconstruct a univariate function with up to R frequencies using equidistant shifts.\"\"\"\n",
    "    # Shift angles for the reconstruction\n",
    "    shifts = [2 * mu * np.pi / (2 * R + 1) for mu in range(-R, R + 1)]\n",
    "    # Shifted function evaluations\n",
    "    evals = np.array([fun(shift) for shift in shifts])\n",
    "\n",
    "    @jax.jit\n",
    "    def reconstruction(x):\n",
    "        \"\"\"Univariate reconstruction using equidistant shifts.\"\"\"\n",
    "        kernels = np.array(\n",
    "            [sinc((R + 0.5) * (x - shift)) / sinc(0.5 * (x - shift)) for shift in shifts]\n",
    "        )\n",
    "        return np.dot(evals, kernels)\n",
    "\n",
    "    return reconstruction\n",
    "\n",
    "reconstructions_equ = list(map(full_reconstruction_equ, cost_functions, Ns))"
   ]
  },
  {
   "cell_type": "code",
   "execution_count": 12,
   "id": "1f4aa491",
   "metadata": {},
   "outputs": [
    {
     "ename": "TypeError",
     "evalue": "'AxesSubplot' object is not subscriptable",
     "output_type": "error",
     "traceback": [
      "\u001b[0;31m---------------------------------------------------------------------------\u001b[0m",
      "\u001b[0;31mTypeError\u001b[0m                                 Traceback (most recent call last)",
      "\u001b[0;32m/var/folders/92/jjpjrbf91clg0kmcnqglv1ym0000gn/T/ipykernel_32243/1594708727.py\u001b[0m in \u001b[0;36m<module>\u001b[0;34m\u001b[0m\n\u001b[1;32m     38\u001b[0m \u001b[0;34m\u001b[0m\u001b[0m\n\u001b[1;32m     39\u001b[0m \u001b[0mequ_shifts\u001b[0m \u001b[0;34m=\u001b[0m \u001b[0;34m[\u001b[0m\u001b[0;34m[\u001b[0m\u001b[0;36m2\u001b[0m \u001b[0;34m*\u001b[0m \u001b[0mmu\u001b[0m \u001b[0;34m*\u001b[0m \u001b[0mnp\u001b[0m\u001b[0;34m.\u001b[0m\u001b[0mpi\u001b[0m \u001b[0;34m/\u001b[0m \u001b[0;34m(\u001b[0m\u001b[0;36m2\u001b[0m \u001b[0;34m*\u001b[0m \u001b[0mN\u001b[0m \u001b[0;34m+\u001b[0m \u001b[0;36m1\u001b[0m\u001b[0;34m)\u001b[0m \u001b[0;32mfor\u001b[0m \u001b[0mmu\u001b[0m \u001b[0;32min\u001b[0m \u001b[0mrange\u001b[0m\u001b[0;34m(\u001b[0m\u001b[0;34m-\u001b[0m\u001b[0mN\u001b[0m\u001b[0;34m,\u001b[0m \u001b[0mN\u001b[0m \u001b[0;34m+\u001b[0m \u001b[0;36m1\u001b[0m\u001b[0;34m)\u001b[0m\u001b[0;34m]\u001b[0m \u001b[0;32mfor\u001b[0m \u001b[0mN\u001b[0m \u001b[0;32min\u001b[0m \u001b[0mNs\u001b[0m\u001b[0;34m]\u001b[0m\u001b[0;34m\u001b[0m\u001b[0;34m\u001b[0m\u001b[0m\n\u001b[0;32m---> 40\u001b[0;31m \u001b[0mfig\u001b[0m\u001b[0;34m,\u001b[0m \u001b[0maxs\u001b[0m \u001b[0;34m=\u001b[0m \u001b[0mcompare_functions\u001b[0m\u001b[0;34m(\u001b[0m\u001b[0mcost_functions\u001b[0m\u001b[0;34m,\u001b[0m \u001b[0mreconstructions_equ\u001b[0m\u001b[0;34m,\u001b[0m \u001b[0mNs\u001b[0m\u001b[0;34m,\u001b[0m \u001b[0mequ_shifts\u001b[0m\u001b[0;34m)\u001b[0m\u001b[0;34m\u001b[0m\u001b[0;34m\u001b[0m\u001b[0m\n\u001b[0m\u001b[1;32m     41\u001b[0m \u001b[0mplt\u001b[0m\u001b[0;34m.\u001b[0m\u001b[0mshow\u001b[0m\u001b[0;34m(\u001b[0m\u001b[0;34m)\u001b[0m\u001b[0;34m\u001b[0m\u001b[0;34m\u001b[0m\u001b[0m\n",
      "\u001b[0;32m/var/folders/92/jjpjrbf91clg0kmcnqglv1ym0000gn/T/ipykernel_32243/1594708727.py\u001b[0m in \u001b[0;36mcompare_functions\u001b[0;34m(originals, reconstructions, Ns, shifts, show_diff)\u001b[0m\n\u001b[1;32m     17\u001b[0m \u001b[0;34m\u001b[0m\u001b[0m\n\u001b[1;32m     18\u001b[0m         \u001b[0;31m# Show E, the reconstruction, and the shifts (top axes)\u001b[0m\u001b[0;34m\u001b[0m\u001b[0;34m\u001b[0m\u001b[0m\n\u001b[0;32m---> 19\u001b[0;31m         \u001b[0m_axs\u001b[0m\u001b[0;34m[\u001b[0m\u001b[0mi\u001b[0m\u001b[0;34m]\u001b[0m\u001b[0;34m.\u001b[0m\u001b[0mplot\u001b[0m\u001b[0;34m(\u001b[0m\u001b[0mX\u001b[0m\u001b[0;34m,\u001b[0m \u001b[0mE\u001b[0m\u001b[0;34m,\u001b[0m \u001b[0mlw\u001b[0m\u001b[0;34m=\u001b[0m\u001b[0;36m2\u001b[0m\u001b[0;34m,\u001b[0m \u001b[0mcolor\u001b[0m\u001b[0;34m=\u001b[0m\u001b[0morange\u001b[0m\u001b[0;34m)\u001b[0m\u001b[0;34m\u001b[0m\u001b[0;34m\u001b[0m\u001b[0m\n\u001b[0m\u001b[1;32m     20\u001b[0m         \u001b[0m_axs\u001b[0m\u001b[0;34m[\u001b[0m\u001b[0mi\u001b[0m\u001b[0;34m]\u001b[0m\u001b[0;34m.\u001b[0m\u001b[0mplot\u001b[0m\u001b[0;34m(\u001b[0m\u001b[0mX\u001b[0m\u001b[0;34m,\u001b[0m \u001b[0mE_rec\u001b[0m\u001b[0;34m,\u001b[0m \u001b[0mlinestyle\u001b[0m\u001b[0;34m=\u001b[0m\u001b[0;34m\":\"\u001b[0m\u001b[0;34m,\u001b[0m \u001b[0mlw\u001b[0m\u001b[0;34m=\u001b[0m\u001b[0;36m3\u001b[0m\u001b[0;34m,\u001b[0m \u001b[0mcolor\u001b[0m\u001b[0;34m=\u001b[0m\u001b[0mgreen\u001b[0m\u001b[0;34m)\u001b[0m\u001b[0;34m\u001b[0m\u001b[0;34m\u001b[0m\u001b[0m\n\u001b[1;32m     21\u001b[0m         \u001b[0m_axs\u001b[0m\u001b[0;34m[\u001b[0m\u001b[0mi\u001b[0m\u001b[0;34m]\u001b[0m\u001b[0;34m.\u001b[0m\u001b[0mplot\u001b[0m\u001b[0;34m(\u001b[0m\u001b[0m_shifts\u001b[0m\u001b[0;34m,\u001b[0m \u001b[0mE_shifts\u001b[0m\u001b[0;34m,\u001b[0m \u001b[0mls\u001b[0m\u001b[0;34m=\u001b[0m\u001b[0;34m\"\"\u001b[0m\u001b[0;34m,\u001b[0m \u001b[0mmarker\u001b[0m\u001b[0;34m=\u001b[0m\u001b[0;34m\"x\"\u001b[0m\u001b[0;34m,\u001b[0m \u001b[0mc\u001b[0m\u001b[0;34m=\u001b[0m\u001b[0mred\u001b[0m\u001b[0;34m)\u001b[0m\u001b[0;34m\u001b[0m\u001b[0;34m\u001b[0m\u001b[0m\n",
      "\u001b[0;31mTypeError\u001b[0m: 'AxesSubplot' object is not subscriptable"
     ]
    },
    {
     "data": {
      "image/png": "[encoded data removed]",
      "text/plain": [
       "<Figure size 864x324 with 2 Axes>"
      ]
     },
     "metadata": {
      "needs_background": "light"
     },
     "output_type": "display_data"
    }
   ],
   "source": [
    "def compare_functions(originals, reconstructions, Ns, shifts, show_diff=True):\n",
    "    \"\"\"Plot two sets of functions next to each other and show their difference (in pairs).\"\"\"\n",
    "    # Prepare the axes; we need fewer axes if we don't show the deviations\n",
    "    if show_diff:\n",
    "        fig, axs = plt.subplots(2, len(originals), figsize=(12, 4.5))\n",
    "    else:\n",
    "        fig, axs = plt.subplots(1, len(originals), figsize=(12, 2))\n",
    "    _axs = axs[0] if show_diff else axs\n",
    "\n",
    "    # Run over the functions and reconstructions\n",
    "    for i, (orig, recon, N, _shifts) in enumerate(zip(originals, reconstructions, Ns, shifts)):\n",
    "        # Evaluate the original function and its reconstruction over the plotting range\n",
    "        E = np.array(list(map(orig, X)))\n",
    "        E_rec = np.array(list(map(recon, X)))\n",
    "        # Evaluate the original function at the positions used in the reconstruction\n",
    "        E_shifts = np.array(list(map(orig, _shifts)))\n",
    "\n",
    "        # Show E, the reconstruction, and the shifts (top axes)\n",
    "        _axs[i].plot(X, E, lw=2, color=orange)\n",
    "        _axs[i].plot(X, E_rec, linestyle=\":\", lw=3, color=green)\n",
    "        _axs[i].plot(_shifts, E_shifts, ls=\"\", marker=\"x\", c=red)\n",
    "        # Manage plot titles and xticks\n",
    "        _axs[i].set_title(f\"{N} qubits\")\n",
    "\n",
    "        if show_diff:\n",
    "            # [Optional] Show the reconstruction deviation (bottom axes)\n",
    "            axs[1, i].plot(X, E - E_rec, color=blue)\n",
    "            axs[1, i].set_xlabel(\"$x$\")\n",
    "            # Hide the xticks of the top x-axes if we use the bottom axes\n",
    "            _axs[i].set_xticks([])\n",
    "\n",
    "    # Manage y-axis labels\n",
    "    _ = _axs[0].set_ylabel(\"$E$\")\n",
    "    if show_diff:\n",
    "        _ = axs[1, 0].set_ylabel(\"$E-E_{rec}$\")\n",
    "\n",
    "    return fig, axs\n",
    "\n",
    "equ_shifts = [[2 * mu * np.pi / (2 * N + 1) for mu in range(-N, N + 1)] for N in Ns]\n",
    "fig, axs = compare_functions(cost_functions, reconstructions_equ, Ns, equ_shifts)\n",
    "plt.show()"
   ]
  },
  {
   "cell_type": "code",
   "execution_count": null,
   "id": "259966ee",
   "metadata": {},
   "outputs": [],
   "source": [
    "def full_reconstruction_gen(fun, shifts):\n",
    "    \"\"\"Reconstruct a univariate trigonometric function using arbitrary shifts.\"\"\"\n",
    "    R = (len(shifts) - 1) // 2\n",
    "    frequencies = np.array(list(range(1, R + 1)))\n",
    "\n",
    "    # Construct the matrix C case by case\n",
    "    C1 = np.ones((2 * R + 1, 1))\n",
    "    C2 = np.cos(np.outer(shifts, frequencies))\n",
    "    C3 = np.sin(np.outer(shifts, frequencies))\n",
    "    C = np.hstack([C1, C2, C3])\n",
    "\n",
    "    # Evaluate the function to reconstruct at the shifted positions\n",
    "    evals = np.array(list(map(fun, shifts)))\n",
    "\n",
    "    # Solve the system of linear equations by inverting C\n",
    "    W = np.linalg.inv(C) @ evals\n",
    "\n",
    "    # Extract the Fourier coefficients\n",
    "    a0 = W[0]\n",
    "    a = W[1 : R + 1]\n",
    "    b = W[R + 1 :]\n",
    "\n",
    "    # Construct the Fourier series\n",
    "    @jax.jit\n",
    "    def reconstruction(x):\n",
    "        \"\"\"Univariate reconstruction based on arbitrary shifts.\"\"\"\n",
    "        return a0 + np.dot(a, np.cos(frequencies * x)) + np.dot(b, np.sin(frequencies * x))\n",
    "\n",
    "    return reconstruction"
   ]
  },
  {
   "cell_type": "code",
   "execution_count": null,
   "id": "b8d7efe7",
   "metadata": {},
   "outputs": [],
   "source": [
    "shifts = [rnd.random(2 * N + 1) * 2 * np.pi - np.pi for N in Ns]\n",
    "reconstructions_gen = list(map(full_reconstruction_gen, cost_functions, shifts))\n",
    "fig, axs = compare_functions(cost_functions, reconstructions_gen, Ns, shifts)\n",
    "plt.show()"
   ]
  },
  {
   "cell_type": "code",
   "execution_count": null,
   "id": "330cd965",
   "metadata": {},
   "outputs": [],
   "source": [
    "shifts_odd = lambda R: [(2 * mu - 1) * np.pi / (2 * R) for mu in range(1, R + 1)]\n",
    "# Odd linear combination of Dirichlet kernels\n",
    "D_odd = lambda x, R: np.array(\n",
    "    [\n",
    "        (\n",
    "            sinc(R * (x - shift)) / sinc(0.5 * (x - shift)) * np.cos(0.5 * (x - shift))\n",
    "            - sinc(R * (x + shift)) / sinc(0.5 * (x + shift)) * np.cos(0.5 * (x + shift))\n",
    "        )\n",
    "        for shift in shifts_odd(R)\n",
    "    ]\n",
    ")\n",
    "\n",
    "\n",
    "def odd_reconstruction_equ(fun, R):\n",
    "    \"\"\"Reconstruct the odd part of an ``R``-frequency input function via equidistant shifts.\"\"\"\n",
    "    evaluations = np.array([(fun(shift) - fun(-shift)) / 2 for shift in shifts_odd(R)])\n",
    "\n",
    "    @jax.jit\n",
    "    def reconstruction(x):\n",
    "        \"\"\"Odd reconstruction based on equidistant shifts.\"\"\"\n",
    "        return np.dot(evaluations, D_odd(x, R))\n",
    "\n",
    "    return reconstruction\n",
    "\n",
    "\n",
    "odd_reconstructions = list(map(odd_reconstruction_equ, cost_functions, Ns))"
   ]
  },
  {
   "cell_type": "code",
   "execution_count": null,
   "id": "32605b82",
   "metadata": {},
   "outputs": [],
   "source": [
    "shifts_even = lambda R: [mu * np.pi / R for mu in range(1, R)]\n",
    "# Even linear combination of Dirichlet kernels\n",
    "D_even = lambda x, R: np.array(\n",
    "    [\n",
    "        (\n",
    "            sinc(R * (x - shift)) / sinc(0.5 * (x - shift)) * np.cos(0.5 * (x - shift))\n",
    "            + sinc(R * (x + shift)) / sinc(0.5 * (x + shift)) * np.cos(0.5 * (x + shift))\n",
    "        )\n",
    "        for shift in shifts_even(R)\n",
    "    ]\n",
    ")\n",
    "# Special cases of even kernels\n",
    "D0 = lambda x, R: sinc(R * x) / (sinc(x / 2)) * np.cos(x / 2)\n",
    "Dpi = lambda x, R: sinc(R * (x - np.pi)) / sinc((x - np.pi) / 2) * np.cos((x - np.pi) / 2)\n",
    "\n",
    "\n",
    "def even_reconstruction_equ(fun, R):\n",
    "    \"\"\"Reconstruct the even part of ``R``-frequency input function via equidistant shifts.\"\"\"\n",
    "    _evaluations = np.array([(fun(shift) + fun(-shift)) / 2 for shift in shifts_even(R)])\n",
    "    evaluations = np.array([fun(0), *_evaluations, fun(np.pi)])\n",
    "    kernels = lambda x: np.array([D0(x, R), *D_even(x, R), Dpi(x, R)])\n",
    "\n",
    "    @jax.jit\n",
    "    def reconstruction(x):\n",
    "        \"\"\"Even reconstruction based on equidistant shifts.\"\"\"\n",
    "        return np.dot(evaluations, kernels(x))\n",
    "\n",
    "    return reconstruction\n",
    "\n",
    "\n",
    "even_reconstructions = list(map(even_reconstruction_equ, cost_functions, Ns))"
   ]
  },
  {
   "cell_type": "code",
   "execution_count": null,
   "id": "1a8451c0",
   "metadata": {},
   "outputs": [],
   "source": [
    "def summed_reconstruction_equ(fun, R):\n",
    "    \"\"\"Sum an odd and an even reconstruction into the full function.\"\"\"\n",
    "    _odd_part = odd_reconstruction_equ(fun, R)\n",
    "    _even_part = even_reconstruction_equ(fun, R)\n",
    "\n",
    "    def reconstruction(x):\n",
    "        \"\"\"Full function based on separate odd/even reconstructions.\"\"\"\n",
    "        return _odd_part(x) + _even_part(x)\n",
    "\n",
    "    return reconstruction\n",
    "\n",
    "\n",
    "summed_reconstructions = list(map(summed_reconstruction_equ, cost_functions, Ns))"
   ]
  },
  {
   "cell_type": "code",
   "execution_count": null,
   "id": "59057625",
   "metadata": {},
   "outputs": [],
   "source": [
    "from matplotlib.lines import Line2D\n",
    "\n",
    "# Obtain the shifts for the reconstruction of both parts\n",
    "odd_and_even_shifts = [\n",
    "    (\n",
    "        shifts_odd(R)\n",
    "        + shifts_even(R)\n",
    "        + list(-1 * np.array(shifts_odd(R)))\n",
    "        + list(-1 * np.array(shifts_odd(R)))\n",
    "        + [0, np.pi]\n",
    "    )\n",
    "    for R in Ns\n",
    "]\n",
    "\n",
    "# Show the reconstructed parts and the sums\n",
    "fig, axs = compare_functions(cost_functions, summed_reconstructions, Ns, odd_and_even_shifts)\n",
    "for i, (odd_recon, even_recon) in enumerate(zip(odd_reconstructions, even_reconstructions)):\n",
    "    # Odd part\n",
    "    E_odd = np.array(list(map(odd_recon, X)))\n",
    "    axs[0, i].plot(X, E_odd, color=red)\n",
    "    # Even part\n",
    "    E_even = np.array(list(map(even_recon, X)))\n",
    "    axs[0, i].plot(X, E_even, color=blue)\n",
    "    axs[0, i].set_title('')\n",
    "_ = axs[1, 0].set_ylabel(\"$E-(E_{odd}+E_{even})$\")\n",
    "colors = [green, red, blue, orange]\n",
    "styles = ['-', '-', '-', '--']\n",
    "handles = [Line2D([0], [0], color=c, ls=ls, lw=1.2) for c, ls in zip(colors, styles)]\n",
    "labels = ['Original', 'Odd reconstruction', 'Even reconstruction', 'Summed reconstruction']\n",
    "_ = fig.legend(handles, labels, bbox_to_anchor=(0.2, 0.89), loc='lower left', ncol=4)\n",
    "plt.show()"
   ]
  },
  {
   "cell_type": "code",
   "execution_count": null,
   "id": "9b35415d",
   "metadata": {},
   "outputs": [],
   "source": [
    "# An iterative function computing the ``order``th derivative of a function ``f`` with JAX\n",
    "grad_gen = lambda f, order: grad_gen(jax.grad(f), order - 1) if order > 0 else f\n",
    "\n",
    "# Compute the first, second, and fourth derivative\n",
    "for order, name in zip([1, 2, 4], [\"First\", \"Second\", \"4th\"]):\n",
    "    recons = odd_reconstructions if order % 2 else even_reconstructions\n",
    "    recon_name = \"odd \" if order % 2 else \"even\"\n",
    "    cost_grads = np.array([grad_gen(orig, order)(0.0) for orig in cost_functions])\n",
    "    recon_grads = np.array([grad_gen(recon, order)(0.0) for recon in recons])\n",
    "    all_equal = (\n",
    "        \"All entries match\" if np.allclose(cost_grads, recon_grads) else \"Some entries differ!\"\n",
    "    )\n",
    "    print(f\"{name} derivatives via jax: {all_equal}\")\n",
    "    print(\"From the cost functions:       \", np.round(np.array(cost_grads), 6))\n",
    "    print(f\"From the {recon_name} reconstructions: \", np.round(np.array(recon_grads), 6), \"\\n\")"
   ]
  },
  {
   "cell_type": "code",
   "execution_count": null,
   "id": "1422eaa0",
   "metadata": {},
   "outputs": [],
   "source": [
    "def parameter_shift_first(fun, R):\n",
    "    \"\"\"Compute the first-order derivative of a function with R frequencies at 0.\"\"\"\n",
    "    shifts = (2 * np.arange(1, 2 * R + 1) - 1) * np.pi / (4 * R)\n",
    "    # Classically computed coefficients\n",
    "    coeffs = np.array(\n",
    "        [(-1) ** mu / (4 * R * np.sin(shift) ** 2) for mu, shift in enumerate(shifts)]\n",
    "    )\n",
    "    # Evaluations of the cost function E(x_mu)\n",
    "    evaluations = np.array(list(map(fun, 2 * shifts)))\n",
    "    # Contract coefficients with evaluations\n",
    "    return np.dot(coeffs, evaluations)\n",
    "\n",
    "ps_der1 = list(map(parameter_shift_first, cost_functions, Ns))"
   ]
  },
  {
   "cell_type": "code",
   "execution_count": null,
   "id": "3a6f470a",
   "metadata": {},
   "outputs": [],
   "source": [
    "def parameter_shift_second(fun, R):\n",
    "    \"\"\"Compute the second-order derivative of a function with R frequencies at 0.\"\"\"\n",
    "    shifts = np.arange(1, 2 * R) * np.pi / (2 * R)\n",
    "    # Classically computed coefficients for the main sum\n",
    "    _coeffs = [(-1) ** mu / (2 * np.sin(shift) ** 2) for mu, shift in enumerate(shifts)]\n",
    "    # Include the coefficients for the \"special\" term E(0).\n",
    "    coeffs = np.array([-(2 * R ** 2 + 1) / 6] + _coeffs)\n",
    "    # Evaluate at the regularily shifted positions\n",
    "    _evaluations = list(map(fun, 2 * shifts))\n",
    "    # Include the \"special\" term E(0).\n",
    "    evaluations = np.array([fun(0.0)] + _evaluations)\n",
    "    # Contract coefficients with evaluations.\n",
    "    return np.dot(coeffs, evaluations)\n",
    "\n",
    "ps_der2 = list(map(parameter_shift_second, cost_functions, Ns))"
   ]
  },
  {
   "cell_type": "code",
   "execution_count": null,
   "id": "54197f14",
   "metadata": {},
   "outputs": [],
   "source": [
    "dx = 5e-5\n",
    "\n",
    "def finite_diff_first(fun):\n",
    "    \"\"\"Compute the first order finite difference derivative.\"\"\"\n",
    "    return (fun(dx/2) - fun(-dx/2))/dx\n",
    "\n",
    "fd_der1 = list(map(finite_diff_first, cost_functions))\n",
    "\n",
    "def finite_diff_second(fun):\n",
    "    \"\"\"Compute the second order finite difference derivative.\"\"\"\n",
    "    fun_p, fun_0, fun_m = fun(dx), fun(0.0), fun(-dx)\n",
    "    return ((fun_p - fun_0)/dx - (fun_0 - fun_m)/dx) /dx\n",
    "\n",
    "fd_der2 = list(map(finite_diff_second, cost_functions))"
   ]
  },
  {
   "cell_type": "code",
   "execution_count": null,
   "id": "ea38c20b",
   "metadata": {},
   "outputs": [],
   "source": [
    "print(\"Number of qubits/RZ gates:         \", *Ns, sep=\" \" * 9)\n",
    "print(f\"First-order parameter-shift rule:  {np.round(np.array(ps_der1), 6)}\")\n",
    "print(f\"First-order finite difference:     {np.round(np.array(fd_der1), 6)}\")\n",
    "print(f\"Second-order parameter-shift rule: {np.round(np.array(ps_der2), 6)}\")\n",
    "print(f\"Second-order finite difference:    {np.round(np.array(fd_der2), 6)}\")"
   ]
  },
  {
   "cell_type": "markdown",
   "id": "72973f57",
   "metadata": {},
   "source": [
    "## Eigenvalues of Pauli Strings"
   ]
  },
  {
   "cell_type": "code",
   "execution_count": null,
   "id": "41c4a524",
   "metadata": {},
   "outputs": [],
   "source": [
    "x = np.array([[0,1],[1,0]])\n",
    "y = np.array([[0,-1j],[1j,0]])\n",
    "z = np.array([[1,0],[0,-1]])\n",
    "i = np.eye(2)"
   ]
  },
  {
   "cell_type": "code",
   "execution_count": null,
   "id": "25cf3d3e",
   "metadata": {},
   "outputs": [],
   "source": [
    "np.linalg.eig(x)"
   ]
  },
  {
   "cell_type": "code",
   "execution_count": null,
   "id": "c520665e",
   "metadata": {
    "scrolled": true
   },
   "outputs": [],
   "source": [
    "tpix = np.kron(np.kron(np.kron(i, z), i), i) + np.kron(np.kron(np.kron(x, i),i),i) - np.kron(np.kron(np.kron(i, i),y), i) - np.kron(np.kron(np.kron(x, z),y), x)\n",
    "print(np.min(np.real(np.linalg.eig(tpix)[0])), np.max(np.real(np.linalg.eig(tpix)[0])))\n",
    "print(np.sort(np.real(np.linalg.eig(tpix)[0])))"
   ]
  },
  {
   "cell_type": "markdown",
   "id": "55f44481",
   "metadata": {},
   "source": [
    "### prove that\n",
    "- The eigenspectrum of commuting pauli words is symmetrically spaced out\n",
    "- Use this fact to build the motivation for 2 term param shift rule as a good descent algorithm\n",
    "- "
   ]
  },
  {
   "cell_type": "markdown",
   "id": "deb1c412",
   "metadata": {},
   "source": [
    "### "
   ]
  },
  {
   "cell_type": "markdown",
   "id": "886e8e6e",
   "metadata": {},
   "source": [
    "### purity of a state"
   ]
  },
  {
   "cell_type": "code",
   "execution_count": 105,
   "id": "300e096c",
   "metadata": {},
   "outputs": [],
   "source": [
    "N = 3\n",
    "dev = qml.device(\"default.qubit\", wires=2*N)\n",
    "\n",
    "@qml.qnode(dev)\n",
    "def cost(params):\n",
    "  \n",
    "#   # first state\n",
    "#   qml.RX(params[0], wires=0)\n",
    "#   qml.RY(params[1], wires=1)\n",
    "#   qml.RZ(params[2], wires=2)\n",
    "\n",
    "#   # second state\n",
    "#   qml.RX(params[0], wires=0)\n",
    "#   qml.RY(params[1], wires=1)\n",
    "#   qml.RZ(params[2], wires=2)\n",
    "\n",
    "  for w in range(N):\n",
    "    qml.CNOT(wires=[w, N+w])\n",
    "    qml.Hadamard(wires=w)\n",
    "  return qml.probs(wires=dev.wires)"
   ]
  },
  {
   "cell_type": "code",
   "execution_count": 106,
   "id": "b0d84464",
   "metadata": {},
   "outputs": [],
   "source": [
    "params = np.random.random([3], requires_grad=True)"
   ]
  },
  {
   "cell_type": "code",
   "execution_count": 118,
   "id": "779b7eaa",
   "metadata": {},
   "outputs": [
    {
     "name": "stdout",
     "output_type": "stream",
     "text": [
      "64\n"
     ]
    }
   ],
   "source": [
    "probs = cost(params)\n",
    "print(len(probs))"
   ]
  },
  {
   "cell_type": "code",
   "execution_count": 108,
   "id": "f7201ca7",
   "metadata": {},
   "outputs": [],
   "source": [
    "def decimalToBinary(num, n):\n",
    "    return np.array(list(\"{0:b}\".format(int(num)).zfill(n)), requires_grad=False, dtype=np.int32)\n",
    "\n",
    "def checkparity(r):\n",
    "  o = r[0::2]\n",
    "  p = r[1::2]\n",
    "  logical_and = np.logical_and(o, p)\n",
    "  return (np.sum(logical_and) % 2) == 1\n",
    "\n",
    "def indxs_with_odd_parity(n):\n",
    "  idxs = []\n",
    "  d2bs = []\n",
    "  n = 2*n\n",
    "  num_states = 2**n\n",
    "  for i in range(num_states):\n",
    "    d2b = decimalToBinary(i, n)\n",
    "    if checkparity(d2b):\n",
    "      idxs.append(i)\n",
    "      d2bs.append(d2b)\n",
    "  return idxs, d2bs"
   ]
  },
  {
   "cell_type": "code",
   "execution_count": 109,
   "id": "418f36b3",
   "metadata": {},
   "outputs": [
    {
     "name": "stdout",
     "output_type": "stream",
     "text": [
      "False\n"
     ]
    }
   ],
   "source": [
    "print(checkparity(np.array([1,1,0,0])) == False)"
   ]
  },
  {
   "cell_type": "code",
   "execution_count": 110,
   "id": "5c81473b",
   "metadata": {},
   "outputs": [],
   "source": [
    "idxs, d2bs = indxs_with_odd_parity(3)"
   ]
  },
  {
   "cell_type": "code",
   "execution_count": 111,
   "id": "32c0138c",
   "metadata": {},
   "outputs": [
    {
     "data": {
      "text/plain": [
       "tensor([1, 0, 0, 0, 0, 0, 0], dtype=int32, requires_grad=False)"
      ]
     },
     "execution_count": 111,
     "metadata": {},
     "output_type": "execute_result"
    }
   ],
   "source": [
    "decimalToBinary(64,7)"
   ]
  },
  {
   "cell_type": "code",
   "execution_count": 112,
   "id": "3fe1dcc3",
   "metadata": {},
   "outputs": [
    {
     "data": {
      "text/plain": [
       "'00001010'"
      ]
     },
     "execution_count": 112,
     "metadata": {},
     "output_type": "execute_result"
    }
   ],
   "source": [
    "format(10, '08b')"
   ]
  },
  {
   "cell_type": "code",
   "execution_count": 113,
   "id": "f71562a1",
   "metadata": {},
   "outputs": [
    {
     "data": {
      "text/plain": [
       "[3,\n",
       " 7,\n",
       " 11,\n",
       " 12,\n",
       " 13,\n",
       " 14,\n",
       " 19,\n",
       " 23,\n",
       " 27,\n",
       " 28,\n",
       " 29,\n",
       " 30,\n",
       " 35,\n",
       " 39,\n",
       " 43,\n",
       " 44,\n",
       " 45,\n",
       " 46,\n",
       " 48,\n",
       " 49,\n",
       " 50,\n",
       " 52,\n",
       " 53,\n",
       " 54,\n",
       " 56,\n",
       " 57,\n",
       " 58,\n",
       " 63]"
      ]
     },
     "execution_count": 113,
     "metadata": {},
     "output_type": "execute_result"
    }
   ],
   "source": [
    "idxs"
   ]
  },
  {
   "cell_type": "code",
   "execution_count": 114,
   "id": "76be503c",
   "metadata": {},
   "outputs": [
    {
     "data": {
      "text/plain": [
       "tensor(True, requires_grad=True)"
      ]
     },
     "execution_count": 114,
     "metadata": {},
     "output_type": "execute_result"
    }
   ],
   "source": [
    "checkparity([0, 0, 0, 0, 1, 1])"
   ]
  },
  {
   "cell_type": "code",
   "execution_count": 115,
   "id": "22585db7",
   "metadata": {},
   "outputs": [
    {
     "data": {
      "text/plain": [
       "[tensor([0, 0, 0, 0, 1, 1], dtype=int32, requires_grad=False),\n",
       " tensor([0, 0, 0, 1, 1, 1], dtype=int32, requires_grad=False),\n",
       " tensor([0, 0, 1, 0, 1, 1], dtype=int32, requires_grad=False),\n",
       " tensor([0, 0, 1, 1, 0, 0], dtype=int32, requires_grad=False),\n",
       " tensor([0, 0, 1, 1, 0, 1], dtype=int32, requires_grad=False),\n",
       " tensor([0, 0, 1, 1, 1, 0], dtype=int32, requires_grad=False),\n",
       " tensor([0, 1, 0, 0, 1, 1], dtype=int32, requires_grad=False),\n",
       " tensor([0, 1, 0, 1, 1, 1], dtype=int32, requires_grad=False),\n",
       " tensor([0, 1, 1, 0, 1, 1], dtype=int32, requires_grad=False),\n",
       " tensor([0, 1, 1, 1, 0, 0], dtype=int32, requires_grad=False),\n",
       " tensor([0, 1, 1, 1, 0, 1], dtype=int32, requires_grad=False),\n",
       " tensor([0, 1, 1, 1, 1, 0], dtype=int32, requires_grad=False),\n",
       " tensor([1, 0, 0, 0, 1, 1], dtype=int32, requires_grad=False),\n",
       " tensor([1, 0, 0, 1, 1, 1], dtype=int32, requires_grad=False),\n",
       " tensor([1, 0, 1, 0, 1, 1], dtype=int32, requires_grad=False),\n",
       " tensor([1, 0, 1, 1, 0, 0], dtype=int32, requires_grad=False),\n",
       " tensor([1, 0, 1, 1, 0, 1], dtype=int32, requires_grad=False),\n",
       " tensor([1, 0, 1, 1, 1, 0], dtype=int32, requires_grad=False),\n",
       " tensor([1, 1, 0, 0, 0, 0], dtype=int32, requires_grad=False),\n",
       " tensor([1, 1, 0, 0, 0, 1], dtype=int32, requires_grad=False),\n",
       " tensor([1, 1, 0, 0, 1, 0], dtype=int32, requires_grad=False),\n",
       " tensor([1, 1, 0, 1, 0, 0], dtype=int32, requires_grad=False),\n",
       " tensor([1, 1, 0, 1, 0, 1], dtype=int32, requires_grad=False),\n",
       " tensor([1, 1, 0, 1, 1, 0], dtype=int32, requires_grad=False),\n",
       " tensor([1, 1, 1, 0, 0, 0], dtype=int32, requires_grad=False),\n",
       " tensor([1, 1, 1, 0, 0, 1], dtype=int32, requires_grad=False),\n",
       " tensor([1, 1, 1, 0, 1, 0], dtype=int32, requires_grad=False),\n",
       " tensor([1, 1, 1, 1, 1, 1], dtype=int32, requires_grad=False)]"
      ]
     },
     "execution_count": 115,
     "metadata": {},
     "output_type": "execute_result"
    }
   ],
   "source": [
    "d2bs"
   ]
  },
  {
   "cell_type": "code",
   "execution_count": null,
   "id": "fd58d1c1",
   "metadata": {},
   "outputs": [],
   "source": []
  },
  {
   "cell_type": "code",
   "execution_count": 119,
   "id": "706c7eca",
   "metadata": {},
   "outputs": [
    {
     "data": {
      "text/plain": [
       "tensor(0.5, requires_grad=True)"
      ]
     },
     "execution_count": 119,
     "metadata": {},
     "output_type": "execute_result"
    }
   ],
   "source": [
    "1 - 2*np.sum(np.array(probs)[idxs])"
   ]
  },
  {
   "cell_type": "code",
   "execution_count": null,
   "id": "629bc977",
   "metadata": {},
   "outputs": [],
   "source": []
  }
 ],
 "metadata": {
  "kernelspec": {
   "display_name": "Python [conda env:practical_rl]",
   "language": "python",
   "name": "conda-env-practical_rl-py"
  },
  "language_info": {
   "codemirror_mode": {
    "name": "ipython",
    "version": 3
   },
   "file_extension": ".py",
   "mimetype": "text/x-python",
   "name": "python",
   "nbconvert_exporter": "python",
   "pygments_lexer": "ipython3",
   "version": "3.9.7"
  }
 },
 "nbformat": 4,
 "nbformat_minor": 5
}
